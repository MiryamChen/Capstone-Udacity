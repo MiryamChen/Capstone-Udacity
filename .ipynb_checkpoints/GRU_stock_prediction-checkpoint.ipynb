{
 "cells": [
  {
   "cell_type": "code",
   "execution_count": 1,
   "id": "a095dcaa",
   "metadata": {},
   "outputs": [
    {
     "name": "stdout",
     "output_type": "stream",
     "text": [
      "Intel MKL WARNING: Support of Intel(R) Streaming SIMD Extensions 4.2 (Intel(R) SSE4.2) enabled only processors has been deprecated. Intel oneAPI Math Kernel Library 2025.0 will require Intel(R) Advanced Vector Extensions (Intel(R) AVX) instructions.\n",
      "Intel MKL WARNING: Support of Intel(R) Streaming SIMD Extensions 4.2 (Intel(R) SSE4.2) enabled only processors has been deprecated. Intel oneAPI Math Kernel Library 2025.0 will require Intel(R) Advanced Vector Extensions (Intel(R) AVX) instructions.\n"
     ]
    },
    {
     "name": "stderr",
     "output_type": "stream",
     "text": [
      "2023-08-14 19:53:56.442494: I tensorflow/core/platform/cpu_feature_guard.cc:193] This TensorFlow binary is optimized with oneAPI Deep Neural Network Library (oneDNN) to use the following CPU instructions in performance-critical operations:  SSE4.1 SSE4.2\n",
      "To enable them in other operations, rebuild TensorFlow with the appropriate compiler flags.\n"
     ]
    }
   ],
   "source": [
    "import numpy as np\n",
    "import pandas as pd\n",
    "import yfinance as yf\n",
    "import tensorflow as tf\n",
    "from sklearn.metrics import mean_absolute_percentage_error\n",
    "from sklearn.model_selection import train_test_split\n",
    "from sklearn.preprocessing import MinMaxScaler\n",
    "from tensorflow.keras.wrappers.scikit_learn import KerasRegressor\n",
    "from sklearn.model_selection import GridSearchCV"
   ]
  },
  {
   "cell_type": "code",
   "execution_count": 2,
   "id": "1e760382",
   "metadata": {},
   "outputs": [],
   "source": [
    "#set variables, we start with Disney stock\n",
    "stock_symbol = 'DIS'\n",
    "start_date = '2022-01-01'\n",
    "end_date = '2023-07-30'"
   ]
  },
  {
   "cell_type": "markdown",
   "id": "e72bea15",
   "metadata": {},
   "source": [
    "data=yf.download(stock_symbol, start_date, end_date)"
   ]
  },
  {
   "cell_type": "code",
   "execution_count": 3,
   "id": "5f50b1a7",
   "metadata": {},
   "outputs": [],
   "source": [
    "#create function to get data\n",
    "def download_stock_data(stock_symbol, start_date, end_date):\n",
    "    data = yf.download(stock_symbol, start_date, end_date)\n",
    "    return data"
   ]
  },
  {
   "cell_type": "code",
   "execution_count": 4,
   "id": "417bf210",
   "metadata": {},
   "outputs": [
    {
     "name": "stdout",
     "output_type": "stream",
     "text": [
      "[*********************100%***********************]  1 of 1 completed\n"
     ]
    }
   ],
   "source": [
    "data = download_stock_data(stock_symbol, start_date, end_date)"
   ]
  },
  {
   "cell_type": "code",
   "execution_count": 5,
   "id": "09fd5b97",
   "metadata": {},
   "outputs": [],
   "source": [
    "#specify the data frequency as daily and Select the 'Adj Close' as the target variable\n",
    "data = data.asfreq(\"D\")\n",
    "data = data[['Adj Close']]"
   ]
  },
  {
   "cell_type": "code",
   "execution_count": 6,
   "id": "255f3eb7",
   "metadata": {},
   "outputs": [],
   "source": [
    "# Preprocessing, forward-fill missing values\n",
    "data = data.fillna(method='ffill') "
   ]
  },
  {
   "cell_type": "code",
   "execution_count": 7,
   "id": "06e9e85e",
   "metadata": {},
   "outputs": [],
   "source": [
    "#set cutoff date for training and testing data\n",
    "test_size = 30"
   ]
  },
  {
   "cell_type": "code",
   "execution_count": 8,
   "id": "312f922e",
   "metadata": {},
   "outputs": [],
   "source": [
    "# Split scaled data into training, and testing sets\n",
    "train_data = data[:-test_size]\n",
    "test_data = data[-test_size:]"
   ]
  },
  {
   "cell_type": "code",
   "execution_count": 9,
   "id": "bc0d9af9",
   "metadata": {},
   "outputs": [],
   "source": [
    "# Standardize the data using MinMaxscaler\n",
    "scaler = MinMaxScaler()\n",
    "train_data_scaled = scaler.fit_transform(train_data)\n",
    "test_data_scaled = scaler.transform(test_data)"
   ]
  },
  {
   "cell_type": "code",
   "execution_count": 10,
   "id": "ff67732c",
   "metadata": {},
   "outputs": [],
   "source": [
    "# Create sequences for training\n",
    "sequence_length = 10  # Number of past time steps to consider\n",
    "\n",
    "X_train, y_train = [], []\n",
    "X_test, y_test = [], []\n",
    "\n",
    "for i in range(len(train_data_scaled) - sequence_length):\n",
    "    X_train.append(train_data_scaled[i:i + sequence_length])\n",
    "    y_train.append(train_data_scaled[i + sequence_length])\n",
    "\n",
    "for i in range(len(test_data_scaled) - sequence_length):\n",
    "    X_test.append(test_data_scaled[i:i + sequence_length])\n",
    "    y_test.append(test_data_scaled[i + sequence_length])\n",
    "\n",
    "X_train, y_train = np.array(X_train), np.array(y_train)\n",
    "X_test, y_test = np.array(X_test), np.array(y_test)"
   ]
  },
  {
   "cell_type": "code",
   "execution_count": 12,
   "id": "fdcaf427",
   "metadata": {},
   "outputs": [
    {
     "name": "stderr",
     "output_type": "stream",
     "text": [
      "2023-08-14 19:54:16.376666: I tensorflow/core/platform/cpu_feature_guard.cc:193] This TensorFlow binary is optimized with oneAPI Deep Neural Network Library (oneDNN) to use the following CPU instructions in performance-critical operations:  SSE4.1 SSE4.2\n",
      "To enable them in other operations, rebuild TensorFlow with the appropriate compiler flags.\n"
     ]
    }
   ],
   "source": [
    "# Gated Recurrent Units (GRU) model creation\n",
    "sequence_length = 10\n",
    "model_GRU = tf.keras.Sequential([\n",
    "    tf.keras.layers.GRU(64, input_shape=(sequence_length, 1), return_sequences=True),\n",
    "    tf.keras.layers.GRU(64),\n",
    "    tf.keras.layers.Dense(1)\n",
    "])\n",
    "# Compile the model\n",
    "model_GRU.compile(optimizer='adam', loss='mean_squared_error')"
   ]
  },
  {
   "cell_type": "markdown",
   "id": "57fedc98",
   "metadata": {},
   "source": [
    "# Long Short-Term Memory (LSTM) model creation\n",
    "model_LSTM = tf.keras.Sequential([\n",
    "    tf.keras.layers.LSTM(64, input_shape=(sequence_length, 1), return_sequences=True),\n",
    "    tf.keras.layers.LSTM(64),\n",
    "    tf.keras.layers.Dense(1)\n",
    "])\n",
    "# Compile the model\n",
    "model_LSTM.compile(optimizer='adam', loss='mean_squared_error')"
   ]
  },
  {
   "cell_type": "code",
   "execution_count": 13,
   "id": "a9149eb1",
   "metadata": {},
   "outputs": [
    {
     "name": "stdout",
     "output_type": "stream",
     "text": [
      "Epoch 1/50\n",
      "17/17 [==============================] - 2s 8ms/step - loss: 0.0760\n",
      "Epoch 2/50\n",
      "17/17 [==============================] - 0s 6ms/step - loss: 0.0072\n",
      "Epoch 3/50\n",
      "17/17 [==============================] - 0s 6ms/step - loss: 0.0025\n",
      "Epoch 4/50\n",
      "17/17 [==============================] - 0s 6ms/step - loss: 0.0019\n",
      "Epoch 5/50\n",
      "17/17 [==============================] - 0s 6ms/step - loss: 0.0017\n",
      "Epoch 6/50\n",
      "17/17 [==============================] - 0s 6ms/step - loss: 0.0017\n",
      "Epoch 7/50\n",
      "17/17 [==============================] - 0s 6ms/step - loss: 0.0017\n",
      "Epoch 8/50\n",
      "17/17 [==============================] - 0s 6ms/step - loss: 0.0016\n",
      "Epoch 9/50\n",
      "17/17 [==============================] - 0s 6ms/step - loss: 0.0015\n",
      "Epoch 10/50\n",
      "17/17 [==============================] - 0s 6ms/step - loss: 0.0015\n",
      "Epoch 11/50\n",
      "17/17 [==============================] - 0s 6ms/step - loss: 0.0015\n",
      "Epoch 12/50\n",
      "17/17 [==============================] - 0s 6ms/step - loss: 0.0015\n",
      "Epoch 13/50\n",
      "17/17 [==============================] - 0s 6ms/step - loss: 0.0015\n",
      "Epoch 14/50\n",
      "17/17 [==============================] - 0s 6ms/step - loss: 0.0013\n",
      "Epoch 15/50\n",
      "17/17 [==============================] - 0s 6ms/step - loss: 0.0014\n",
      "Epoch 16/50\n",
      "17/17 [==============================] - 0s 6ms/step - loss: 0.0013\n",
      "Epoch 17/50\n",
      "17/17 [==============================] - 0s 6ms/step - loss: 0.0012\n",
      "Epoch 18/50\n",
      "17/17 [==============================] - 0s 6ms/step - loss: 0.0012\n",
      "Epoch 19/50\n",
      "17/17 [==============================] - 0s 6ms/step - loss: 0.0011\n",
      "Epoch 20/50\n",
      "17/17 [==============================] - 0s 6ms/step - loss: 0.0011\n",
      "Epoch 21/50\n",
      "17/17 [==============================] - 0s 6ms/step - loss: 0.0011\n",
      "Epoch 22/50\n",
      "17/17 [==============================] - 0s 6ms/step - loss: 0.0011\n",
      "Epoch 23/50\n",
      "17/17 [==============================] - 0s 6ms/step - loss: 0.0011\n",
      "Epoch 24/50\n",
      "17/17 [==============================] - 0s 6ms/step - loss: 0.0011\n",
      "Epoch 25/50\n",
      "17/17 [==============================] - 0s 6ms/step - loss: 0.0010\n",
      "Epoch 26/50\n",
      "17/17 [==============================] - 0s 6ms/step - loss: 0.0011\n",
      "Epoch 27/50\n",
      "17/17 [==============================] - 0s 6ms/step - loss: 0.0010\n",
      "Epoch 28/50\n",
      "17/17 [==============================] - 0s 6ms/step - loss: 9.6722e-04\n",
      "Epoch 29/50\n",
      "17/17 [==============================] - 0s 6ms/step - loss: 9.2453e-04\n",
      "Epoch 30/50\n",
      "17/17 [==============================] - 0s 6ms/step - loss: 9.9202e-04\n",
      "Epoch 31/50\n",
      "17/17 [==============================] - 0s 6ms/step - loss: 9.2291e-04\n",
      "Epoch 32/50\n",
      "17/17 [==============================] - 0s 6ms/step - loss: 9.8101e-04\n",
      "Epoch 33/50\n",
      "17/17 [==============================] - 0s 6ms/step - loss: 9.5472e-04\n",
      "Epoch 34/50\n",
      "17/17 [==============================] - 0s 6ms/step - loss: 0.0011\n",
      "Epoch 35/50\n",
      "17/17 [==============================] - 0s 6ms/step - loss: 9.3677e-04\n",
      "Epoch 36/50\n",
      "17/17 [==============================] - 0s 6ms/step - loss: 8.7404e-04\n",
      "Epoch 37/50\n",
      "17/17 [==============================] - 0s 6ms/step - loss: 9.0648e-04\n",
      "Epoch 38/50\n",
      "17/17 [==============================] - 0s 6ms/step - loss: 8.7374e-04\n",
      "Epoch 39/50\n",
      "17/17 [==============================] - 0s 6ms/step - loss: 8.5531e-04\n",
      "Epoch 40/50\n",
      "17/17 [==============================] - 0s 6ms/step - loss: 8.6875e-04\n",
      "Epoch 41/50\n",
      "17/17 [==============================] - 0s 6ms/step - loss: 8.7099e-04\n",
      "Epoch 42/50\n",
      "17/17 [==============================] - 0s 6ms/step - loss: 8.6786e-04\n",
      "Epoch 43/50\n",
      "17/17 [==============================] - 0s 6ms/step - loss: 8.2974e-04\n",
      "Epoch 44/50\n",
      "17/17 [==============================] - 0s 6ms/step - loss: 8.6127e-04\n",
      "Epoch 45/50\n",
      "17/17 [==============================] - 0s 6ms/step - loss: 8.1824e-04\n",
      "Epoch 46/50\n",
      "17/17 [==============================] - 0s 6ms/step - loss: 8.9218e-04\n",
      "Epoch 47/50\n",
      "17/17 [==============================] - 0s 6ms/step - loss: 9.1188e-04\n",
      "Epoch 48/50\n",
      "17/17 [==============================] - 0s 6ms/step - loss: 8.5673e-04\n",
      "Epoch 49/50\n",
      "17/17 [==============================] - 0s 6ms/step - loss: 8.4774e-04\n",
      "Epoch 50/50\n",
      "17/17 [==============================] - 0s 6ms/step - loss: 8.0499e-04\n"
     ]
    },
    {
     "data": {
      "text/plain": [
       "<keras.callbacks.History at 0x7fcfc981a460>"
      ]
     },
     "execution_count": 13,
     "metadata": {},
     "output_type": "execute_result"
    }
   ],
   "source": [
    "# Fit the model\n",
    "model_GRU.fit(X_train, y_train, epochs=50, batch_size=32, verbose=1)"
   ]
  },
  {
   "cell_type": "code",
   "execution_count": 14,
   "id": "c84e2625",
   "metadata": {},
   "outputs": [
    {
     "name": "stdout",
     "output_type": "stream",
     "text": [
      "1/1 [==============================] - 0s 359ms/step\n"
     ]
    }
   ],
   "source": [
    "# Make predictions on the test set\n",
    "predictions = model_GRU.predict(X_test)"
   ]
  },
  {
   "cell_type": "code",
   "execution_count": 15,
   "id": "3350ef9c",
   "metadata": {},
   "outputs": [
    {
     "ename": "NotFittedError",
     "evalue": "This MinMaxScaler instance is not fitted yet. Call 'fit' with appropriate arguments before using this estimator.",
     "output_type": "error",
     "traceback": [
      "\u001b[0;31m---------------------------------------------------------------------------\u001b[0m",
      "\u001b[0;31mNotFittedError\u001b[0m                            Traceback (most recent call last)",
      "Cell \u001b[0;32mIn[15], line 3\u001b[0m\n\u001b[1;32m      1\u001b[0m \u001b[38;5;66;03m# Inverse scaling to return to original values \u001b[39;00m\n\u001b[1;32m      2\u001b[0m scaler \u001b[38;5;241m=\u001b[39m MinMaxScaler()\n\u001b[0;32m----> 3\u001b[0m predictions_inv \u001b[38;5;241m=\u001b[39m \u001b[43mscaler\u001b[49m\u001b[38;5;241;43m.\u001b[39;49m\u001b[43minverse_transform\u001b[49m\u001b[43m(\u001b[49m\u001b[43mpredictions\u001b[49m\u001b[43m)\u001b[49m\n\u001b[1;32m      4\u001b[0m y_test_inv \u001b[38;5;241m=\u001b[39m scaler\u001b[38;5;241m.\u001b[39minverse_transform(y_test)\n",
      "File \u001b[0;32m~/opt/anaconda3/envs/UdacityProject/lib/python3.9/site-packages/sklearn/preprocessing/_data.py:541\u001b[0m, in \u001b[0;36mMinMaxScaler.inverse_transform\u001b[0;34m(self, X)\u001b[0m\n\u001b[1;32m    528\u001b[0m \u001b[38;5;28;01mdef\u001b[39;00m \u001b[38;5;21minverse_transform\u001b[39m(\u001b[38;5;28mself\u001b[39m, X):\n\u001b[1;32m    529\u001b[0m \u001b[38;5;250m    \u001b[39m\u001b[38;5;124;03m\"\"\"Undo the scaling of X according to feature_range.\u001b[39;00m\n\u001b[1;32m    530\u001b[0m \n\u001b[1;32m    531\u001b[0m \u001b[38;5;124;03m    Parameters\u001b[39;00m\n\u001b[0;32m   (...)\u001b[0m\n\u001b[1;32m    539\u001b[0m \u001b[38;5;124;03m        Transformed data.\u001b[39;00m\n\u001b[1;32m    540\u001b[0m \u001b[38;5;124;03m    \"\"\"\u001b[39;00m\n\u001b[0;32m--> 541\u001b[0m     \u001b[43mcheck_is_fitted\u001b[49m\u001b[43m(\u001b[49m\u001b[38;5;28;43mself\u001b[39;49m\u001b[43m)\u001b[49m\n\u001b[1;32m    543\u001b[0m     X \u001b[38;5;241m=\u001b[39m check_array(\n\u001b[1;32m    544\u001b[0m         X, copy\u001b[38;5;241m=\u001b[39m\u001b[38;5;28mself\u001b[39m\u001b[38;5;241m.\u001b[39mcopy, dtype\u001b[38;5;241m=\u001b[39mFLOAT_DTYPES, force_all_finite\u001b[38;5;241m=\u001b[39m\u001b[38;5;124m\"\u001b[39m\u001b[38;5;124mallow-nan\u001b[39m\u001b[38;5;124m\"\u001b[39m\n\u001b[1;32m    545\u001b[0m     )\n\u001b[1;32m    547\u001b[0m     X \u001b[38;5;241m-\u001b[39m\u001b[38;5;241m=\u001b[39m \u001b[38;5;28mself\u001b[39m\u001b[38;5;241m.\u001b[39mmin_\n",
      "File \u001b[0;32m~/opt/anaconda3/envs/UdacityProject/lib/python3.9/site-packages/sklearn/utils/validation.py:1462\u001b[0m, in \u001b[0;36mcheck_is_fitted\u001b[0;34m(estimator, attributes, msg, all_or_any)\u001b[0m\n\u001b[1;32m   1459\u001b[0m     \u001b[38;5;28;01mraise\u001b[39;00m \u001b[38;5;167;01mTypeError\u001b[39;00m(\u001b[38;5;124m\"\u001b[39m\u001b[38;5;132;01m%s\u001b[39;00m\u001b[38;5;124m is not an estimator instance.\u001b[39m\u001b[38;5;124m\"\u001b[39m \u001b[38;5;241m%\u001b[39m (estimator))\n\u001b[1;32m   1461\u001b[0m \u001b[38;5;28;01mif\u001b[39;00m \u001b[38;5;129;01mnot\u001b[39;00m _is_fitted(estimator, attributes, all_or_any):\n\u001b[0;32m-> 1462\u001b[0m     \u001b[38;5;28;01mraise\u001b[39;00m NotFittedError(msg \u001b[38;5;241m%\u001b[39m {\u001b[38;5;124m\"\u001b[39m\u001b[38;5;124mname\u001b[39m\u001b[38;5;124m\"\u001b[39m: \u001b[38;5;28mtype\u001b[39m(estimator)\u001b[38;5;241m.\u001b[39m\u001b[38;5;18m__name__\u001b[39m})\n",
      "\u001b[0;31mNotFittedError\u001b[0m: This MinMaxScaler instance is not fitted yet. Call 'fit' with appropriate arguments before using this estimator."
     ]
    }
   ],
   "source": [
    "# Inverse scaling to return to original values \n",
    "scaler = MinMaxScaler()\n",
    "predictions_inv = scaler.inverse_transform(predictions)\n",
    "y_test_inv = scaler.inverse_transform(y_test)"
   ]
  },
  {
   "cell_type": "code",
   "execution_count": null,
   "id": "b6e91fa3",
   "metadata": {},
   "outputs": [],
   "source": [
    "# Calculate MAPE (Mean Absolute Percentage Error)\n",
    "def calculate_mape(y_test_inv, predictions_inv):\n",
    "    return np.mean(np.abs((y_test_inv - predictions_inv) / y_test_inv)) * 100\n",
    "\n",
    "mape = calculate_mape(y_test_inv, predictions_inv)\n",
    "print(\"Mean Absolute Percentage Error:\", mape)"
   ]
  },
  {
   "cell_type": "code",
   "execution_count": 26,
   "id": "5e51387c",
   "metadata": {},
   "outputs": [
    {
     "name": "stdout",
     "output_type": "stream",
     "text": [
      "Epoch 1/50\n",
      "17/17 [==============================] - 0s 6ms/step - loss: 9.0417e-04\n",
      "Epoch 2/50\n",
      "17/17 [==============================] - 0s 6ms/step - loss: 7.9223e-04\n",
      "Epoch 3/50\n",
      "17/17 [==============================] - 0s 6ms/step - loss: 7.6329e-04\n",
      "Epoch 4/50\n",
      "17/17 [==============================] - 0s 6ms/step - loss: 7.4965e-04\n",
      "Epoch 5/50\n",
      "17/17 [==============================] - 0s 6ms/step - loss: 7.4751e-04\n",
      "Epoch 6/50\n",
      "17/17 [==============================] - 0s 6ms/step - loss: 7.4373e-04\n",
      "Epoch 7/50\n",
      "17/17 [==============================] - 0s 6ms/step - loss: 7.1246e-04\n",
      "Epoch 8/50\n",
      "17/17 [==============================] - 0s 6ms/step - loss: 7.6234e-04\n",
      "Epoch 9/50\n",
      "17/17 [==============================] - 0s 6ms/step - loss: 7.5528e-04\n",
      "Epoch 10/50\n",
      "17/17 [==============================] - 0s 6ms/step - loss: 7.2682e-04\n",
      "Epoch 11/50\n",
      "17/17 [==============================] - 0s 6ms/step - loss: 7.6477e-04\n",
      "Epoch 12/50\n",
      "17/17 [==============================] - 0s 6ms/step - loss: 7.6507e-04\n",
      "Epoch 13/50\n",
      "17/17 [==============================] - 0s 6ms/step - loss: 7.6166e-04\n",
      "Epoch 14/50\n",
      "17/17 [==============================] - 0s 6ms/step - loss: 7.5295e-04\n",
      "Epoch 15/50\n",
      "17/17 [==============================] - 0s 7ms/step - loss: 7.1945e-04\n",
      "Epoch 16/50\n",
      "17/17 [==============================] - 0s 6ms/step - loss: 7.2157e-04\n",
      "Epoch 17/50\n",
      "17/17 [==============================] - 0s 7ms/step - loss: 7.3694e-04\n",
      "Epoch 18/50\n",
      "17/17 [==============================] - 0s 6ms/step - loss: 8.0859e-04\n",
      "Epoch 19/50\n",
      "17/17 [==============================] - 0s 6ms/step - loss: 8.9188e-04\n",
      "Epoch 20/50\n",
      "17/17 [==============================] - 0s 6ms/step - loss: 7.3470e-04\n",
      "Epoch 21/50\n",
      "17/17 [==============================] - 0s 6ms/step - loss: 7.9277e-04\n",
      "Epoch 22/50\n",
      "17/17 [==============================] - 0s 6ms/step - loss: 7.4391e-04\n",
      "Epoch 23/50\n",
      "17/17 [==============================] - 0s 7ms/step - loss: 7.1765e-04\n",
      "Epoch 24/50\n",
      "17/17 [==============================] - 0s 6ms/step - loss: 7.2538e-04\n",
      "Epoch 25/50\n",
      "17/17 [==============================] - 0s 6ms/step - loss: 7.5568e-04\n",
      "Epoch 26/50\n",
      "17/17 [==============================] - 0s 6ms/step - loss: 7.9186e-04\n",
      "Epoch 27/50\n",
      "17/17 [==============================] - 0s 6ms/step - loss: 7.6923e-04\n",
      "Epoch 28/50\n",
      "17/17 [==============================] - 0s 6ms/step - loss: 8.0129e-04\n",
      "Epoch 29/50\n",
      "17/17 [==============================] - 0s 6ms/step - loss: 7.6157e-04\n",
      "Epoch 30/50\n",
      "17/17 [==============================] - 0s 6ms/step - loss: 8.2009e-04\n",
      "Epoch 31/50\n",
      "17/17 [==============================] - 0s 6ms/step - loss: 8.0142e-04\n",
      "Epoch 32/50\n",
      "17/17 [==============================] - 0s 6ms/step - loss: 8.3630e-04\n",
      "Epoch 33/50\n",
      "17/17 [==============================] - 0s 6ms/step - loss: 7.3633e-04\n",
      "Epoch 34/50\n",
      "17/17 [==============================] - 0s 6ms/step - loss: 7.3048e-04\n",
      "Epoch 35/50\n",
      "17/17 [==============================] - 0s 6ms/step - loss: 7.4143e-04\n",
      "Epoch 36/50\n",
      "17/17 [==============================] - 0s 6ms/step - loss: 8.2763e-04\n",
      "Epoch 37/50\n",
      "17/17 [==============================] - 0s 7ms/step - loss: 0.0011\n",
      "Epoch 38/50\n",
      "17/17 [==============================] - 0s 7ms/step - loss: 7.2815e-04\n",
      "Epoch 39/50\n",
      "17/17 [==============================] - 0s 6ms/step - loss: 7.3219e-04\n",
      "Epoch 40/50\n",
      "17/17 [==============================] - 0s 6ms/step - loss: 8.0154e-04\n",
      "Epoch 41/50\n",
      "17/17 [==============================] - 0s 6ms/step - loss: 7.3191e-04\n",
      "Epoch 42/50\n",
      "17/17 [==============================] - 0s 6ms/step - loss: 7.5008e-04\n",
      "Epoch 43/50\n",
      "17/17 [==============================] - 0s 6ms/step - loss: 7.6654e-04\n",
      "Epoch 44/50\n",
      "17/17 [==============================] - 0s 6ms/step - loss: 7.1166e-04\n",
      "Epoch 45/50\n",
      "17/17 [==============================] - 0s 6ms/step - loss: 7.2681e-04\n",
      "Epoch 46/50\n",
      "17/17 [==============================] - 0s 7ms/step - loss: 7.2037e-04\n",
      "Epoch 47/50\n",
      "17/17 [==============================] - 0s 7ms/step - loss: 9.0777e-04\n",
      "Epoch 48/50\n",
      "17/17 [==============================] - 0s 7ms/step - loss: 7.6432e-04\n",
      "Epoch 49/50\n",
      "17/17 [==============================] - 0s 7ms/step - loss: 7.3345e-04\n",
      "Epoch 50/50\n",
      "17/17 [==============================] - 0s 7ms/step - loss: 7.6441e-04\n",
      "1/1 [==============================] - 0s 393ms/step\n"
     ]
    },
    {
     "data": {
      "text/plain": [
       "(<keras.engine.sequential.Sequential at 0x7fc28703d910>,\n",
       " array([[0.062551  ],\n",
       "        [0.06235817],\n",
       "        [0.05600866],\n",
       "        [0.07239904],\n",
       "        [0.08049992],\n",
       "        [0.08550072],\n",
       "        [0.06409854],\n",
       "        [0.06380934],\n",
       "        [0.06244961],\n",
       "        [0.02609039],\n",
       "        [0.02930117],\n",
       "        [0.04029663],\n",
       "        [0.03112766],\n",
       "        [0.04300232],\n",
       "        [0.04326142],\n",
       "        [0.04389706],\n",
       "        [0.03721465],\n",
       "        [0.0255787 ],\n",
       "        [0.02732267],\n",
       "        [0.02088742]], dtype=float32))"
      ]
     },
     "execution_count": 26,
     "metadata": {},
     "output_type": "execute_result"
    }
   ],
   "source": [
    "train_predict(model_GRU, X_train, y_train, X_test)"
   ]
  },
  {
   "cell_type": "code",
   "execution_count": null,
   "id": "65a93fab",
   "metadata": {},
   "outputs": [],
   "source": [
    " # Inverse scaling to return to original values\n",
    "def get_mape(predictions, y_test)\n",
    "    predictions_inv = scaler.inverse_transform(predictions)\n",
    "    y_test_inv = scaler.inverse_transform(y_test)\n",
    "    \n",
    "    #get evaluation using mape\n",
    "    mape = calculate_mape(y_test_inv, predictions_inv)\n",
    "    \n",
    "    return print(\"Mean Absolute Percentage Error:\", mape)"
   ]
  },
  {
   "cell_type": "code",
   "execution_count": 19,
   "id": "52aa96e3",
   "metadata": {
    "scrolled": false
   },
   "outputs": [
    {
     "name": "stdout",
     "output_type": "stream",
     "text": [
      "Epoch 1/50\n",
      "17/17 [==============================] - 2s 8ms/step - loss: 0.0244\n",
      "Epoch 2/50\n",
      "17/17 [==============================] - 0s 6ms/step - loss: 0.0041\n",
      "Epoch 3/50\n",
      "17/17 [==============================] - 0s 6ms/step - loss: 0.0018\n",
      "Epoch 4/50\n",
      "17/17 [==============================] - 0s 6ms/step - loss: 0.0018\n",
      "Epoch 5/50\n",
      "17/17 [==============================] - 0s 6ms/step - loss: 0.0016\n",
      "Epoch 6/50\n",
      "17/17 [==============================] - 0s 6ms/step - loss: 0.0015\n",
      "Epoch 7/50\n",
      "17/17 [==============================] - 0s 6ms/step - loss: 0.0014\n",
      "Epoch 8/50\n",
      "17/17 [==============================] - 0s 6ms/step - loss: 0.0014\n",
      "Epoch 9/50\n",
      "17/17 [==============================] - 0s 6ms/step - loss: 0.0014\n",
      "Epoch 10/50\n",
      "17/17 [==============================] - 0s 6ms/step - loss: 0.0013\n",
      "Epoch 11/50\n",
      "17/17 [==============================] - 0s 6ms/step - loss: 0.0013\n",
      "Epoch 12/50\n",
      "17/17 [==============================] - 0s 6ms/step - loss: 0.0013\n",
      "Epoch 13/50\n",
      "17/17 [==============================] - 0s 7ms/step - loss: 0.0012\n",
      "Epoch 14/50\n",
      "17/17 [==============================] - 0s 6ms/step - loss: 0.0012\n",
      "Epoch 15/50\n",
      "17/17 [==============================] - 0s 6ms/step - loss: 0.0012\n",
      "Epoch 16/50\n",
      "17/17 [==============================] - 0s 6ms/step - loss: 0.0012\n",
      "Epoch 17/50\n",
      "17/17 [==============================] - 0s 6ms/step - loss: 0.0011\n",
      "Epoch 18/50\n",
      "17/17 [==============================] - 0s 7ms/step - loss: 0.0011\n",
      "Epoch 19/50\n",
      "17/17 [==============================] - 0s 6ms/step - loss: 0.0011\n",
      "Epoch 20/50\n",
      "17/17 [==============================] - 0s 6ms/step - loss: 0.0010\n",
      "Epoch 21/50\n",
      "17/17 [==============================] - 0s 6ms/step - loss: 9.6484e-04\n",
      "Epoch 22/50\n",
      "17/17 [==============================] - 0s 6ms/step - loss: 9.2771e-04\n",
      "Epoch 23/50\n",
      "17/17 [==============================] - 0s 6ms/step - loss: 9.5083e-04\n",
      "Epoch 24/50\n",
      "17/17 [==============================] - 0s 6ms/step - loss: 9.4886e-04\n",
      "Epoch 25/50\n",
      "17/17 [==============================] - 0s 6ms/step - loss: 9.0108e-04\n",
      "Epoch 26/50\n",
      "17/17 [==============================] - 0s 6ms/step - loss: 8.7607e-04\n",
      "Epoch 27/50\n",
      "17/17 [==============================] - 0s 6ms/step - loss: 9.3454e-04\n",
      "Epoch 28/50\n",
      "17/17 [==============================] - 0s 6ms/step - loss: 8.9194e-04\n",
      "Epoch 29/50\n",
      "17/17 [==============================] - 0s 6ms/step - loss: 9.3013e-04\n",
      "Epoch 30/50\n",
      "17/17 [==============================] - 0s 7ms/step - loss: 8.4580e-04\n",
      "Epoch 31/50\n",
      "17/17 [==============================] - 0s 7ms/step - loss: 8.5199e-04\n",
      "Epoch 32/50\n",
      "17/17 [==============================] - 0s 7ms/step - loss: 8.8016e-04\n",
      "Epoch 33/50\n",
      "17/17 [==============================] - 0s 8ms/step - loss: 8.1420e-04\n",
      "Epoch 34/50\n",
      "17/17 [==============================] - 0s 6ms/step - loss: 8.1676e-04\n",
      "Epoch 35/50\n",
      "17/17 [==============================] - 0s 6ms/step - loss: 8.3746e-04\n",
      "Epoch 36/50\n",
      "17/17 [==============================] - 0s 6ms/step - loss: 8.9463e-04\n",
      "Epoch 37/50\n",
      "17/17 [==============================] - 0s 6ms/step - loss: 8.6850e-04\n",
      "Epoch 38/50\n",
      "17/17 [==============================] - 0s 6ms/step - loss: 8.0450e-04\n",
      "Epoch 39/50\n",
      "17/17 [==============================] - 0s 6ms/step - loss: 8.1359e-04\n",
      "Epoch 40/50\n",
      "17/17 [==============================] - 0s 6ms/step - loss: 8.6680e-04\n",
      "Epoch 41/50\n",
      "17/17 [==============================] - 0s 6ms/step - loss: 8.2371e-04\n",
      "Epoch 42/50\n",
      "17/17 [==============================] - 0s 6ms/step - loss: 8.5472e-04\n",
      "Epoch 43/50\n",
      "17/17 [==============================] - 0s 6ms/step - loss: 7.6710e-04\n",
      "Epoch 44/50\n",
      "17/17 [==============================] - 0s 6ms/step - loss: 7.8065e-04\n",
      "Epoch 45/50\n",
      "17/17 [==============================] - 0s 6ms/step - loss: 7.7810e-04\n",
      "Epoch 46/50\n",
      "17/17 [==============================] - 0s 6ms/step - loss: 8.4984e-04\n",
      "Epoch 47/50\n",
      "17/17 [==============================] - 0s 6ms/step - loss: 8.7964e-04\n",
      "Epoch 48/50\n",
      "17/17 [==============================] - 0s 6ms/step - loss: 7.6974e-04\n",
      "Epoch 49/50\n",
      "17/17 [==============================] - 0s 6ms/step - loss: 7.7501e-04\n",
      "Epoch 50/50\n",
      "17/17 [==============================] - 0s 6ms/step - loss: 7.8940e-04\n"
     ]
    },
    {
     "ename": "AttributeError",
     "evalue": "'History' object has no attribute 'predict'",
     "output_type": "error",
     "traceback": [
      "\u001b[0;31m---------------------------------------------------------------------------\u001b[0m",
      "\u001b[0;31mAttributeError\u001b[0m                            Traceback (most recent call last)",
      "Cell \u001b[0;32mIn[19], line 1\u001b[0m\n\u001b[0;32m----> 1\u001b[0m \u001b[43mtrain_predict\u001b[49m\u001b[43m(\u001b[49m\u001b[43mmodel_GRU\u001b[49m\u001b[43m,\u001b[49m\u001b[43m \u001b[49m\u001b[43mX_train\u001b[49m\u001b[43m,\u001b[49m\u001b[43m \u001b[49m\u001b[43my_train\u001b[49m\u001b[43m,\u001b[49m\u001b[43m \u001b[49m\u001b[43mX_test\u001b[49m\u001b[43m,\u001b[49m\u001b[43m \u001b[49m\u001b[43my_test\u001b[49m\u001b[43m)\u001b[49m\n",
      "Cell \u001b[0;32mIn[12], line 13\u001b[0m, in \u001b[0;36mtrain_predict\u001b[0;34m(learner, X_train, y_train, X_test, y_test)\u001b[0m\n\u001b[1;32m     11\u001b[0m learner \u001b[38;5;241m=\u001b[39m learner\u001b[38;5;241m.\u001b[39mfit(X_train, y_train, epochs\u001b[38;5;241m=\u001b[39m\u001b[38;5;241m50\u001b[39m, batch_size\u001b[38;5;241m=\u001b[39m\u001b[38;5;241m32\u001b[39m, verbose\u001b[38;5;241m=\u001b[39m\u001b[38;5;241m1\u001b[39m)\n\u001b[1;32m     12\u001b[0m \u001b[38;5;66;03m#obtain predictions on the test set\u001b[39;00m\n\u001b[0;32m---> 13\u001b[0m predictions \u001b[38;5;241m=\u001b[39m \u001b[43mlearner\u001b[49m\u001b[38;5;241;43m.\u001b[39;49m\u001b[43mpredict\u001b[49m(X_test)\n\u001b[1;32m     15\u001b[0m \u001b[38;5;66;03m# Inverse scaling to return to original values \u001b[39;00m\n\u001b[1;32m     16\u001b[0m predictions_inv \u001b[38;5;241m=\u001b[39m scaler\u001b[38;5;241m.\u001b[39minverse_transform(predictions)\n",
      "\u001b[0;31mAttributeError\u001b[0m: 'History' object has no attribute 'predict'"
     ]
    }
   ],
   "source": []
  },
  {
   "cell_type": "code",
   "execution_count": 13,
   "id": "90fa3b12",
   "metadata": {},
   "outputs": [
    {
     "name": "stderr",
     "output_type": "stream",
     "text": [
      "/var/folders/t9/wn4qgz396_s47k55vtg3khww0000gn/T/ipykernel_60800/775064094.py:2: DeprecationWarning: KerasRegressor is deprecated, use Sci-Keras (https://github.com/adriangb/scikeras) instead. See https://www.adriangb.com/scikeras/stable/migration.html for help migrating.\n",
      "  model = KerasRegressor(build_fn=model_GRU, verbose=0)\n"
     ]
    }
   ],
   "source": [
    "#perform gridsearch on GRU model, if this cell breaks, then I need to use a function to build the GRU model as seen in cell below. \n",
    "model = KerasRegressor(build_fn=model_GRU, verbose=0)"
   ]
  },
  {
   "cell_type": "markdown",
   "id": "15f6b0fd",
   "metadata": {},
   "source": [
    "# Function to create the GRU model\n",
    "def create_model_GRU(neurons=64):\n",
    "    model = tf.keras.Sequential([\n",
    "        tf.keras.layers.GRU(neurons, input_shape=(sequence_length, 1), return_sequences=True),\n",
    "        tf.keras.layers.GRU(neurons),\n",
    "        tf.keras.layers.Dense(1)\n",
    "    ])\n",
    "    model.compile(optimizer='adam', loss='mean_squared_error')\n",
    "    return model\n",
    "\n",
    "# Create a KerasRegressor wrapper for scikit-learn\n",
    "model = KerasRegressor(build_fn=create_model_GRU, verbose=0)"
   ]
  },
  {
   "cell_type": "code",
   "execution_count": 14,
   "id": "3cab7a5e",
   "metadata": {},
   "outputs": [],
   "source": [
    "# Define the parameter grid for GridSearch\n",
    "param_grid = {\n",
    "    'neurons': [32, 64, 128],\n",
    "    'batch_size': [32, 64, 128],\n",
    "    'epochs': [50, 100]\n",
    "}"
   ]
  },
  {
   "cell_type": "code",
   "execution_count": 15,
   "id": "05fde83f",
   "metadata": {},
   "outputs": [
    {
     "ename": "NameError",
     "evalue": "name 'X_train' is not defined",
     "output_type": "error",
     "traceback": [
      "\u001b[0;31m---------------------------------------------------------------------------\u001b[0m",
      "\u001b[0;31mNameError\u001b[0m                                 Traceback (most recent call last)",
      "Cell \u001b[0;32mIn[15], line 3\u001b[0m\n\u001b[1;32m      1\u001b[0m \u001b[38;5;66;03m# Perform GridSearch\u001b[39;00m\n\u001b[1;32m      2\u001b[0m grid \u001b[38;5;241m=\u001b[39m GridSearchCV(estimator\u001b[38;5;241m=\u001b[39mmodel, param_grid\u001b[38;5;241m=\u001b[39mparam_grid, cv\u001b[38;5;241m=\u001b[39m\u001b[38;5;241m3\u001b[39m, n_jobs\u001b[38;5;241m=\u001b[39m\u001b[38;5;241m-\u001b[39m\u001b[38;5;241m1\u001b[39m)\n\u001b[0;32m----> 3\u001b[0m grid_result \u001b[38;5;241m=\u001b[39m grid\u001b[38;5;241m.\u001b[39mfit(\u001b[43mX_train\u001b[49m, y_train)\n",
      "\u001b[0;31mNameError\u001b[0m: name 'X_train' is not defined"
     ]
    }
   ],
   "source": [
    "# Perform GridSearch\n",
    "grid = GridSearchCV(estimator=model, param_grid=param_grid, cv=3, n_jobs=-1)\n",
    "grid_result = grid.fit(X_train, y_train)"
   ]
  },
  {
   "cell_type": "code",
   "execution_count": null,
   "id": "ee63aa51",
   "metadata": {},
   "outputs": [],
   "source": [
    "# Print the best parameters and the best score\n",
    "print(\"Best: %f using %s\" % (grid_result.best_score_, grid_result.best_params_))"
   ]
  },
  {
   "cell_type": "code",
   "execution_count": null,
   "id": "1e9aaa34",
   "metadata": {
    "collapsed": true
   },
   "outputs": [],
   "source": [
    "#to do, prediction based on a given date"
   ]
  },
  {
   "cell_type": "code",
   "execution_count": null,
   "id": "d033a16b",
   "metadata": {},
   "outputs": [],
   "source": [
    "#to do, graph"
   ]
  },
  {
   "cell_type": "code",
   "execution_count": null,
   "id": "7a4cc968",
   "metadata": {},
   "outputs": [],
   "source": [
    "#to do, when the above works, pass all this code to pycharm and create the streamlit app."
   ]
  }
 ],
 "metadata": {
  "kernelspec": {
   "display_name": "Python 3 (ipykernel)",
   "language": "python",
   "name": "python3"
  },
  "language_info": {
   "codemirror_mode": {
    "name": "ipython",
    "version": 3
   },
   "file_extension": ".py",
   "mimetype": "text/x-python",
   "name": "python",
   "nbconvert_exporter": "python",
   "pygments_lexer": "ipython3",
   "version": "3.9.17"
  }
 },
 "nbformat": 4,
 "nbformat_minor": 5
}
