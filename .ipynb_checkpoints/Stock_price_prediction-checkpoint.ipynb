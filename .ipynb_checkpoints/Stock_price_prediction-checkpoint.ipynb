{
 "cells": [
  {
   "cell_type": "code",
   "execution_count": 1,
   "id": "935c9e6a",
   "metadata": {},
   "outputs": [
    {
     "name": "stdout",
     "output_type": "stream",
     "text": [
      "Intel MKL WARNING: Support of Intel(R) Streaming SIMD Extensions 4.2 (Intel(R) SSE4.2) enabled only processors has been deprecated. Intel oneAPI Math Kernel Library 2025.0 will require Intel(R) Advanced Vector Extensions (Intel(R) AVX) instructions.\n",
      "Intel MKL WARNING: Support of Intel(R) Streaming SIMD Extensions 4.2 (Intel(R) SSE4.2) enabled only processors has been deprecated. Intel oneAPI Math Kernel Library 2025.0 will require Intel(R) Advanced Vector Extensions (Intel(R) AVX) instructions.\n"
     ]
    },
    {
     "name": "stderr",
     "output_type": "stream",
     "text": [
      "2023-08-16 10:44:18.909501: I tensorflow/core/platform/cpu_feature_guard.cc:193] This TensorFlow binary is optimized with oneAPI Deep Neural Network Library (oneDNN) to use the following CPU instructions in performance-critical operations:  SSE4.1 SSE4.2\n",
      "To enable them in other operations, rebuild TensorFlow with the appropriate compiler flags.\n"
     ]
    }
   ],
   "source": [
    "import numpy as np\n",
    "import pandas as pd\n",
    "import yfinance as yf\n",
    "import tensorflow as tf\n",
    "from sklearn.preprocessing import MinMaxScaler\n",
    "from sklearn.metrics import mean_absolute_percentage_error\n",
    "from tensorflow.keras.wrappers.scikit_learn import KerasRegressor\n",
    "from sklearn.model_selection import GridSearchCV\n",
    "import matplotlib.pyplot as plt"
   ]
  },
  {
   "cell_type": "code",
   "execution_count": 2,
   "id": "ff6674b0",
   "metadata": {},
   "outputs": [
    {
     "name": "stdout",
     "output_type": "stream",
     "text": [
      "[*********************100%***********************]  1 of 1 completed\n"
     ]
    }
   ],
   "source": [
    "# Download stock data from yfinance\n",
    "stock_symbol = 'AAPL'\n",
    "start_date = '2022-01-01'\n",
    "end_date = '2023-07-30'\n",
    "data = yf.download(stock_symbol, start=start_date, end=end_date)"
   ]
  },
  {
   "cell_type": "markdown",
   "id": "2071b5c8",
   "metadata": {},
   "source": [
    "Target vs feature variable selection: \n",
    "    1. first tried the columns 'Open', 'High', 'Low', 'volume' as feature variables. The obtained accuracy was not as good as just using the column 'Adj Close' . \n",
    "    2. second and final aproach, use the 'Adj Close' colume as the target and feature to train the model. Example, use sequencial training, the previous 10 sequences of price is used as training data to predict the 11th price point. "
   ]
  },
  {
   "cell_type": "code",
   "execution_count": 3,
   "id": "e88861f9",
   "metadata": {},
   "outputs": [],
   "source": [
    "# Select the 'Close' prices as the target variable\n",
    "data = data.asfreq(\"D\")\n",
    "data = data[['Adj Close']]"
   ]
  },
  {
   "cell_type": "code",
   "execution_count": 4,
   "id": "360ecd8d",
   "metadata": {},
   "outputs": [],
   "source": [
    "# Preprocessing (filling missing values, scaling)\n",
    "data = data.fillna(method='ffill')  # Forward-fill missing values"
   ]
  },
  {
   "cell_type": "markdown",
   "id": "52d83a21",
   "metadata": {},
   "source": [
    "Data preprocessing: \n",
    "    1. transform data into daily data format using .asfreq() method, this leads to better accuracy than leaving it as is\n",
    "    2. the above method leaves the days without data as Nan. So used forward filling to fill the Nans. "
   ]
  },
  {
   "cell_type": "code",
   "execution_count": 5,
   "id": "36e27b7a",
   "metadata": {},
   "outputs": [],
   "source": [
    "#set cutoff date for training and testing data\n",
    "test_size = 30\n",
    "train_data = data[:-test_size]\n",
    "test_data = data[-test_size:]"
   ]
  },
  {
   "cell_type": "code",
   "execution_count": 6,
   "id": "1739e568",
   "metadata": {},
   "outputs": [],
   "source": [
    "# Scaling data to standardize to 0-1\n",
    "scaler = MinMaxScaler()\n",
    "train_data_scaled = scaler.fit_transform(train_data)\n",
    "test_data_scaled = scaler.transform(test_data)"
   ]
  },
  {
   "cell_type": "markdown",
   "id": "2e1d9a69",
   "metadata": {},
   "source": [
    "We only use fit_transform on training data, and use tranform on test data to avoid leaking info"
   ]
  },
  {
   "cell_type": "code",
   "execution_count": 7,
   "id": "6cf380cc",
   "metadata": {},
   "outputs": [],
   "source": [
    "# Create sequences for training\n",
    "sequence_length = 10  # Number of past time steps to consider\n",
    "\n",
    "X_train, y_train = [], []\n",
    "X_test, y_test = [], []\n",
    "\n",
    "for i in range(len(train_data_scaled) - sequence_length):\n",
    "    X_train.append(train_data_scaled[i:i + sequence_length])\n",
    "    y_train.append(train_data_scaled[i + sequence_length])\n",
    "\n",
    "for i in range(len(test_data_scaled) - sequence_length):\n",
    "    X_test.append(test_data_scaled[i:i + sequence_length])\n",
    "    y_test.append(test_data_scaled[i + sequence_length])\n",
    "\n",
    "X_train, y_train = np.array(X_train), np.array(y_train)\n",
    "X_test, y_test = np.array(X_test), np.array(y_test)\n"
   ]
  },
  {
   "cell_type": "markdown",
   "id": "44270e2b",
   "metadata": {},
   "source": [
    "The below parameters have been adjusted based on the best parameters provided by gridsearch performed in a few cells below. "
   ]
  },
  {
   "cell_type": "code",
   "execution_count": 32,
   "id": "f23c0fdb",
   "metadata": {},
   "outputs": [],
   "source": [
    "# Long Short-Term Memory (LSTM) model creation\n",
    "model = tf.keras.Sequential([\n",
    "    tf.keras.layers.LSTM(128, input_shape=(sequence_length, 1), return_sequences=True),\n",
    "    tf.keras.layers.LSTM(128),\n",
    "    tf.keras.layers.Dense(1)\n",
    "])"
   ]
  },
  {
   "cell_type": "code",
   "execution_count": 33,
   "id": "5716e5f6",
   "metadata": {},
   "outputs": [],
   "source": [
    "# Compile the model\n",
    "model.compile(optimizer='adam', loss='mean_squared_error')"
   ]
  },
  {
   "cell_type": "code",
   "execution_count": 34,
   "id": "6cc53a40",
   "metadata": {},
   "outputs": [
    {
     "name": "stdout",
     "output_type": "stream",
     "text": [
      "Epoch 1/100\n",
      "17/17 [==============================] - 2s 11ms/step - loss: 0.0516\n",
      "Epoch 2/100\n",
      "17/17 [==============================] - 0s 11ms/step - loss: 0.0088\n",
      "Epoch 3/100\n",
      "17/17 [==============================] - 0s 12ms/step - loss: 0.0066\n",
      "Epoch 4/100\n",
      "17/17 [==============================] - 0s 11ms/step - loss: 0.0054\n",
      "Epoch 5/100\n",
      "17/17 [==============================] - 0s 11ms/step - loss: 0.0054\n",
      "Epoch 6/100\n",
      "17/17 [==============================] - 0s 11ms/step - loss: 0.0051\n",
      "Epoch 7/100\n",
      "17/17 [==============================] - 0s 11ms/step - loss: 0.0049\n",
      "Epoch 8/100\n",
      "17/17 [==============================] - 0s 11ms/step - loss: 0.0048\n",
      "Epoch 9/100\n",
      "17/17 [==============================] - 0s 11ms/step - loss: 0.0047\n",
      "Epoch 10/100\n",
      "17/17 [==============================] - 0s 11ms/step - loss: 0.0046\n",
      "Epoch 11/100\n",
      "17/17 [==============================] - 0s 11ms/step - loss: 0.0044\n",
      "Epoch 12/100\n",
      "17/17 [==============================] - 0s 11ms/step - loss: 0.0043\n",
      "Epoch 13/100\n",
      "17/17 [==============================] - 0s 11ms/step - loss: 0.0044\n",
      "Epoch 14/100\n",
      "17/17 [==============================] - 0s 11ms/step - loss: 0.0039\n",
      "Epoch 15/100\n",
      "17/17 [==============================] - 0s 11ms/step - loss: 0.0038\n",
      "Epoch 16/100\n",
      "17/17 [==============================] - 0s 11ms/step - loss: 0.0038\n",
      "Epoch 17/100\n",
      "17/17 [==============================] - 0s 11ms/step - loss: 0.0040\n",
      "Epoch 18/100\n",
      "17/17 [==============================] - 0s 11ms/step - loss: 0.0034\n",
      "Epoch 19/100\n",
      "17/17 [==============================] - 0s 11ms/step - loss: 0.0032\n",
      "Epoch 20/100\n",
      "17/17 [==============================] - 0s 11ms/step - loss: 0.0039\n",
      "Epoch 21/100\n",
      "17/17 [==============================] - 0s 11ms/step - loss: 0.0035\n",
      "Epoch 22/100\n",
      "17/17 [==============================] - 0s 11ms/step - loss: 0.0032\n",
      "Epoch 23/100\n",
      "17/17 [==============================] - 0s 11ms/step - loss: 0.0030\n",
      "Epoch 24/100\n",
      "17/17 [==============================] - 0s 11ms/step - loss: 0.0031\n",
      "Epoch 25/100\n",
      "17/17 [==============================] - 0s 11ms/step - loss: 0.0029\n",
      "Epoch 26/100\n",
      "17/17 [==============================] - 0s 11ms/step - loss: 0.0031\n",
      "Epoch 27/100\n",
      "17/17 [==============================] - 0s 11ms/step - loss: 0.0036\n",
      "Epoch 28/100\n",
      "17/17 [==============================] - 0s 11ms/step - loss: 0.0031\n",
      "Epoch 29/100\n",
      "17/17 [==============================] - 0s 11ms/step - loss: 0.0030\n",
      "Epoch 30/100\n",
      "17/17 [==============================] - 0s 11ms/step - loss: 0.0029\n",
      "Epoch 31/100\n",
      "17/17 [==============================] - 0s 11ms/step - loss: 0.0030\n",
      "Epoch 32/100\n",
      "17/17 [==============================] - 0s 11ms/step - loss: 0.0028\n",
      "Epoch 33/100\n",
      "17/17 [==============================] - 0s 11ms/step - loss: 0.0026\n",
      "Epoch 34/100\n",
      "17/17 [==============================] - 0s 11ms/step - loss: 0.0026\n",
      "Epoch 35/100\n",
      "17/17 [==============================] - 0s 11ms/step - loss: 0.0033\n",
      "Epoch 36/100\n",
      "17/17 [==============================] - 0s 11ms/step - loss: 0.0027\n",
      "Epoch 37/100\n",
      "17/17 [==============================] - 0s 11ms/step - loss: 0.0025\n",
      "Epoch 38/100\n",
      "17/17 [==============================] - 0s 11ms/step - loss: 0.0024\n",
      "Epoch 39/100\n",
      "17/17 [==============================] - 0s 11ms/step - loss: 0.0025\n",
      "Epoch 40/100\n",
      "17/17 [==============================] - 0s 11ms/step - loss: 0.0023\n",
      "Epoch 41/100\n",
      "17/17 [==============================] - 0s 11ms/step - loss: 0.0023\n",
      "Epoch 42/100\n",
      "17/17 [==============================] - 0s 11ms/step - loss: 0.0024\n",
      "Epoch 43/100\n",
      "17/17 [==============================] - 0s 11ms/step - loss: 0.0024\n",
      "Epoch 44/100\n",
      "17/17 [==============================] - 0s 11ms/step - loss: 0.0023\n",
      "Epoch 45/100\n",
      "17/17 [==============================] - 0s 11ms/step - loss: 0.0024\n",
      "Epoch 46/100\n",
      "17/17 [==============================] - 0s 11ms/step - loss: 0.0022\n",
      "Epoch 47/100\n",
      "17/17 [==============================] - 0s 11ms/step - loss: 0.0022\n",
      "Epoch 48/100\n",
      "17/17 [==============================] - 0s 11ms/step - loss: 0.0022\n",
      "Epoch 49/100\n",
      "17/17 [==============================] - 0s 11ms/step - loss: 0.0021\n",
      "Epoch 50/100\n",
      "17/17 [==============================] - 0s 11ms/step - loss: 0.0022\n",
      "Epoch 51/100\n",
      "17/17 [==============================] - 0s 11ms/step - loss: 0.0021\n",
      "Epoch 52/100\n",
      "17/17 [==============================] - 0s 11ms/step - loss: 0.0020\n",
      "Epoch 53/100\n",
      "17/17 [==============================] - 0s 11ms/step - loss: 0.0020\n",
      "Epoch 54/100\n",
      "17/17 [==============================] - 0s 11ms/step - loss: 0.0019\n",
      "Epoch 55/100\n",
      "17/17 [==============================] - 0s 11ms/step - loss: 0.0020\n",
      "Epoch 56/100\n",
      "17/17 [==============================] - 0s 11ms/step - loss: 0.0020\n",
      "Epoch 57/100\n",
      "17/17 [==============================] - 0s 11ms/step - loss: 0.0021\n",
      "Epoch 58/100\n",
      "17/17 [==============================] - 0s 11ms/step - loss: 0.0019\n",
      "Epoch 59/100\n",
      "17/17 [==============================] - 0s 11ms/step - loss: 0.0018\n",
      "Epoch 60/100\n",
      "17/17 [==============================] - 0s 11ms/step - loss: 0.0018\n",
      "Epoch 61/100\n",
      "17/17 [==============================] - 0s 11ms/step - loss: 0.0018\n",
      "Epoch 62/100\n",
      "17/17 [==============================] - 0s 11ms/step - loss: 0.0018\n",
      "Epoch 63/100\n",
      "17/17 [==============================] - 0s 11ms/step - loss: 0.0019\n",
      "Epoch 64/100\n",
      "17/17 [==============================] - 0s 11ms/step - loss: 0.0019\n",
      "Epoch 65/100\n",
      "17/17 [==============================] - 0s 11ms/step - loss: 0.0020\n",
      "Epoch 66/100\n",
      "17/17 [==============================] - 0s 11ms/step - loss: 0.0020\n",
      "Epoch 67/100\n",
      "17/17 [==============================] - 0s 11ms/step - loss: 0.0019\n",
      "Epoch 68/100\n",
      "17/17 [==============================] - 0s 11ms/step - loss: 0.0018\n",
      "Epoch 69/100\n",
      "17/17 [==============================] - 0s 11ms/step - loss: 0.0017\n",
      "Epoch 70/100\n",
      "17/17 [==============================] - 0s 11ms/step - loss: 0.0018\n",
      "Epoch 71/100\n",
      "17/17 [==============================] - 0s 11ms/step - loss: 0.0017\n",
      "Epoch 72/100\n",
      "17/17 [==============================] - 0s 11ms/step - loss: 0.0017\n",
      "Epoch 73/100\n",
      "17/17 [==============================] - 0s 11ms/step - loss: 0.0017\n",
      "Epoch 74/100\n",
      "17/17 [==============================] - 0s 11ms/step - loss: 0.0016\n",
      "Epoch 75/100\n",
      "17/17 [==============================] - 0s 11ms/step - loss: 0.0017\n",
      "Epoch 76/100\n",
      "17/17 [==============================] - 0s 11ms/step - loss: 0.0016\n",
      "Epoch 77/100\n",
      "17/17 [==============================] - 0s 11ms/step - loss: 0.0017\n",
      "Epoch 78/100\n",
      "17/17 [==============================] - 0s 12ms/step - loss: 0.0017\n",
      "Epoch 79/100\n",
      "17/17 [==============================] - 0s 11ms/step - loss: 0.0016\n",
      "Epoch 80/100\n",
      "17/17 [==============================] - 0s 11ms/step - loss: 0.0016\n",
      "Epoch 81/100\n",
      "17/17 [==============================] - 0s 11ms/step - loss: 0.0016\n",
      "Epoch 82/100\n",
      "17/17 [==============================] - 0s 11ms/step - loss: 0.0017\n",
      "Epoch 83/100\n",
      "17/17 [==============================] - 0s 11ms/step - loss: 0.0017\n",
      "Epoch 84/100\n",
      "17/17 [==============================] - 0s 11ms/step - loss: 0.0016\n",
      "Epoch 85/100\n",
      "17/17 [==============================] - 0s 11ms/step - loss: 0.0016\n",
      "Epoch 86/100\n",
      "17/17 [==============================] - 0s 11ms/step - loss: 0.0017\n",
      "Epoch 87/100\n",
      "17/17 [==============================] - 0s 11ms/step - loss: 0.0016\n",
      "Epoch 88/100\n",
      "17/17 [==============================] - 0s 11ms/step - loss: 0.0016\n",
      "Epoch 89/100\n",
      "17/17 [==============================] - 0s 11ms/step - loss: 0.0017\n",
      "Epoch 90/100\n",
      "17/17 [==============================] - 0s 11ms/step - loss: 0.0018\n",
      "Epoch 91/100\n",
      "17/17 [==============================] - 0s 11ms/step - loss: 0.0016\n",
      "Epoch 92/100\n",
      "17/17 [==============================] - 0s 11ms/step - loss: 0.0016\n",
      "Epoch 93/100\n",
      "17/17 [==============================] - 0s 11ms/step - loss: 0.0016\n",
      "Epoch 94/100\n",
      "17/17 [==============================] - 0s 11ms/step - loss: 0.0016\n",
      "Epoch 95/100\n",
      "17/17 [==============================] - 0s 11ms/step - loss: 0.0017\n",
      "Epoch 96/100\n",
      "17/17 [==============================] - 0s 11ms/step - loss: 0.0016\n",
      "Epoch 97/100\n",
      "17/17 [==============================] - 0s 11ms/step - loss: 0.0016\n",
      "Epoch 98/100\n",
      "17/17 [==============================] - 0s 11ms/step - loss: 0.0016\n",
      "Epoch 99/100\n",
      "17/17 [==============================] - 0s 11ms/step - loss: 0.0017\n",
      "Epoch 100/100\n",
      "17/17 [==============================] - 0s 11ms/step - loss: 0.0016\n"
     ]
    },
    {
     "data": {
      "text/plain": [
       "<keras.callbacks.History at 0x7f8db0d60af0>"
      ]
     },
     "execution_count": 34,
     "metadata": {},
     "output_type": "execute_result"
    }
   ],
   "source": [
    "# Fit the model\n",
    "model.fit(X_train, y_train, epochs=100, batch_size=32, verbose=1)"
   ]
  },
  {
   "cell_type": "code",
   "execution_count": 35,
   "id": "1ea3a62d",
   "metadata": {},
   "outputs": [
    {
     "name": "stdout",
     "output_type": "stream",
     "text": [
      "1/1 [==============================] - 0s 386ms/step\n"
     ]
    }
   ],
   "source": [
    "# Predict using the model\n",
    "predicted_values = model.predict(X_test)"
   ]
  },
  {
   "cell_type": "code",
   "execution_count": 36,
   "id": "52ea6659",
   "metadata": {},
   "outputs": [],
   "source": [
    "# Inverse scaling\n",
    "predicted_values_inv = scaler.inverse_transform(predicted_values)\n",
    "y_test_inv = scaler.inverse_transform(y_test)"
   ]
  },
  {
   "cell_type": "code",
   "execution_count": 37,
   "id": "80dd8d86",
   "metadata": {},
   "outputs": [
    {
     "name": "stdout",
     "output_type": "stream",
     "text": [
      "Mean Absolute Percentage Error: 0.580217851479745\n"
     ]
    }
   ],
   "source": [
    "# Calculate MAPE (Mean Absolute Percentage Error)\n",
    "def calculate_mape(y_true, y_pred):\n",
    "    return np.mean(np.abs((y_true - y_pred) / y_true)) * 100\n",
    "\n",
    "mape = calculate_mape(y_test_inv, predicted_values_inv)\n",
    "print(\"Mean Absolute Percentage Error:\", mape)"
   ]
  },
  {
   "cell_type": "code",
   "execution_count": 38,
   "id": "dc8d5812",
   "metadata": {},
   "outputs": [
    {
     "data": {
      "image/png": "[encoded data removed]",
      "text/plain": [
       "<Figure size 1000x600 with 1 Axes>"
      ]
     },
     "metadata": {},
     "output_type": "display_data"
    }
   ],
   "source": [
    "# Assuming y_test and y_predicted are NumPy arrays or lists\n",
    "plt.figure(figsize=(10, 6))\n",
    "plt.plot(y_test_inv, label='True Values')\n",
    "plt.plot(predicted_values_inv, label='Predicted Values')\n",
    "plt.title('True vs. Predicted Values')\n",
    "plt.xlabel('Data Point')\n",
    "plt.ylabel('Value')\n",
    "plt.legend()\n",
    "plt.show()"
   ]
  },
  {
   "cell_type": "markdown",
   "id": "6978b220",
   "metadata": {},
   "source": [
    "# Test the GRU model"
   ]
  },
  {
   "cell_type": "code",
   "execution_count": 21,
   "id": "95e61882",
   "metadata": {},
   "outputs": [],
   "source": [
    "# Tested with another RNN model, but did not perform as well as LSTM. \n",
    "## Gated Recurrent Units (GRU) model creation\n",
    "sequence_length = 10\n",
    "model_GRU = tf.keras.Sequential([\n",
    "    tf.keras.layers.GRU(128, input_shape=(sequence_length, 1), return_sequences=True),\n",
    "    tf.keras.layers.GRU(128),\n",
    "    tf.keras.layers.Dense(1)\n",
    "])\n",
    "## Compile the model\n",
    "model_GRU.compile(optimizer='adam', loss='mean_squared_error')"
   ]
  },
  {
   "cell_type": "code",
   "execution_count": 22,
   "id": "1f1ab1a2",
   "metadata": {},
   "outputs": [
    {
     "name": "stdout",
     "output_type": "stream",
     "text": [
      "Epoch 1/50\n",
      "17/17 [==============================] - 2s 11ms/step - loss: 0.0436\n",
      "Epoch 2/50\n",
      "17/17 [==============================] - 0s 10ms/step - loss: 0.0060\n",
      "Epoch 3/50\n",
      "17/17 [==============================] - 0s 10ms/step - loss: 0.0035\n",
      "Epoch 4/50\n",
      "17/17 [==============================] - 0s 10ms/step - loss: 0.0027\n",
      "Epoch 5/50\n",
      "17/17 [==============================] - 0s 10ms/step - loss: 0.0026\n",
      "Epoch 6/50\n",
      "17/17 [==============================] - 0s 10ms/step - loss: 0.0025\n",
      "Epoch 7/50\n",
      "17/17 [==============================] - 0s 10ms/step - loss: 0.0024\n",
      "Epoch 8/50\n",
      "17/17 [==============================] - 0s 10ms/step - loss: 0.0023\n",
      "Epoch 9/50\n",
      "17/17 [==============================] - 0s 11ms/step - loss: 0.0023\n",
      "Epoch 10/50\n",
      "17/17 [==============================] - 0s 10ms/step - loss: 0.0022\n",
      "Epoch 11/50\n",
      "17/17 [==============================] - 0s 10ms/step - loss: 0.0021\n",
      "Epoch 12/50\n",
      "17/17 [==============================] - 0s 10ms/step - loss: 0.0021\n",
      "Epoch 13/50\n",
      "17/17 [==============================] - 0s 11ms/step - loss: 0.0021\n",
      "Epoch 14/50\n",
      "17/17 [==============================] - 0s 10ms/step - loss: 0.0021\n",
      "Epoch 15/50\n",
      "17/17 [==============================] - 0s 10ms/step - loss: 0.0019\n",
      "Epoch 16/50\n",
      "17/17 [==============================] - 0s 10ms/step - loss: 0.0019\n",
      "Epoch 17/50\n",
      "17/17 [==============================] - 0s 10ms/step - loss: 0.0018\n",
      "Epoch 18/50\n",
      "17/17 [==============================] - 0s 10ms/step - loss: 0.0018\n",
      "Epoch 19/50\n",
      "17/17 [==============================] - 0s 10ms/step - loss: 0.0018\n",
      "Epoch 20/50\n",
      "17/17 [==============================] - 0s 10ms/step - loss: 0.0017\n",
      "Epoch 21/50\n",
      "17/17 [==============================] - 0s 10ms/step - loss: 0.0018\n",
      "Epoch 22/50\n",
      "17/17 [==============================] - 0s 10ms/step - loss: 0.0017\n",
      "Epoch 23/50\n",
      "17/17 [==============================] - 0s 10ms/step - loss: 0.0017\n",
      "Epoch 24/50\n",
      "17/17 [==============================] - 0s 10ms/step - loss: 0.0017\n",
      "Epoch 25/50\n",
      "17/17 [==============================] - 0s 10ms/step - loss: 0.0018\n",
      "Epoch 26/50\n",
      "17/17 [==============================] - 0s 10ms/step - loss: 0.0018\n",
      "Epoch 27/50\n",
      "17/17 [==============================] - 0s 10ms/step - loss: 0.0016\n",
      "Epoch 28/50\n",
      "17/17 [==============================] - 0s 10ms/step - loss: 0.0017\n",
      "Epoch 29/50\n",
      "17/17 [==============================] - 0s 10ms/step - loss: 0.0016\n",
      "Epoch 30/50\n",
      "17/17 [==============================] - 0s 10ms/step - loss: 0.0017\n",
      "Epoch 31/50\n",
      "17/17 [==============================] - 0s 10ms/step - loss: 0.0017\n",
      "Epoch 32/50\n",
      "17/17 [==============================] - 0s 10ms/step - loss: 0.0016\n",
      "Epoch 33/50\n",
      "17/17 [==============================] - 0s 10ms/step - loss: 0.0016\n",
      "Epoch 34/50\n",
      "17/17 [==============================] - 0s 10ms/step - loss: 0.0016\n",
      "Epoch 35/50\n",
      "17/17 [==============================] - 0s 10ms/step - loss: 0.0016\n",
      "Epoch 36/50\n",
      "17/17 [==============================] - 0s 10ms/step - loss: 0.0016\n",
      "Epoch 37/50\n",
      "17/17 [==============================] - 0s 10ms/step - loss: 0.0016\n",
      "Epoch 38/50\n",
      "17/17 [==============================] - 0s 10ms/step - loss: 0.0015\n",
      "Epoch 39/50\n",
      "17/17 [==============================] - 0s 10ms/step - loss: 0.0016\n",
      "Epoch 40/50\n",
      "17/17 [==============================] - 0s 10ms/step - loss: 0.0016\n",
      "Epoch 41/50\n",
      "17/17 [==============================] - 0s 10ms/step - loss: 0.0017\n",
      "Epoch 42/50\n",
      "17/17 [==============================] - 0s 10ms/step - loss: 0.0016\n",
      "Epoch 43/50\n",
      "17/17 [==============================] - 0s 10ms/step - loss: 0.0016\n",
      "Epoch 44/50\n",
      "17/17 [==============================] - 0s 10ms/step - loss: 0.0018\n",
      "Epoch 45/50\n",
      "17/17 [==============================] - 0s 10ms/step - loss: 0.0016\n",
      "Epoch 46/50\n",
      "17/17 [==============================] - 0s 11ms/step - loss: 0.0016\n",
      "Epoch 47/50\n",
      "17/17 [==============================] - 0s 10ms/step - loss: 0.0015\n",
      "Epoch 48/50\n",
      "17/17 [==============================] - 0s 10ms/step - loss: 0.0016\n",
      "Epoch 49/50\n",
      "17/17 [==============================] - 0s 10ms/step - loss: 0.0017\n",
      "Epoch 50/50\n",
      "17/17 [==============================] - 0s 10ms/step - loss: 0.0016\n"
     ]
    },
    {
     "data": {
      "text/plain": [
       "<keras.callbacks.History at 0x7f8dd01eb4c0>"
      ]
     },
     "execution_count": 22,
     "metadata": {},
     "output_type": "execute_result"
    }
   ],
   "source": [
    "## Fit the model\n",
    "model_GRU.fit(X_train, y_train, epochs=50, batch_size=32, verbose=1)"
   ]
  },
  {
   "cell_type": "code",
   "execution_count": 23,
   "id": "b7be3a43",
   "metadata": {},
   "outputs": [
    {
     "name": "stdout",
     "output_type": "stream",
     "text": [
      "1/1 [==============================] - 0s 351ms/step\n"
     ]
    }
   ],
   "source": [
    "## Predict using the model\n",
    "predicted_values_GRU = model_GRU.predict(X_test)"
   ]
  },
  {
   "cell_type": "code",
   "execution_count": 24,
   "id": "0c9d4d55",
   "metadata": {},
   "outputs": [],
   "source": [
    "## Inverse scaling\n",
    "predicted_values_inv_GRU = scaler.inverse_transform(predicted_values_GRU)\n",
    "y_test_inv = scaler.inverse_transform(y_test)"
   ]
  },
  {
   "cell_type": "code",
   "execution_count": 25,
   "id": "0acb26ac",
   "metadata": {},
   "outputs": [
    {
     "name": "stdout",
     "output_type": "stream",
     "text": [
      "Mean Absolute Percentage Error: 1.6159803762040392\n"
     ]
    }
   ],
   "source": [
    "## Calculate MAPE (Mean Absolute Percentage Error)\n",
    "def calculate_mape(y_true, y_pred):\n",
    "    return np.mean(np.abs((y_true - y_pred) / y_true)) * 100\n",
    "\n",
    "mape_GRU = calculate_mape(y_test_inv, predicted_values_inv_GRU)\n",
    "print(\"Mean Absolute Percentage Error:\", mape)"
   ]
  },
  {
   "cell_type": "code",
   "execution_count": null,
   "id": "054de4fa",
   "metadata": {},
   "outputs": [],
   "source": [
    "## create gridsearch for the best model -LSTM"
   ]
  },
  {
   "cell_type": "code",
   "execution_count": 26,
   "id": "e42125ee",
   "metadata": {},
   "outputs": [],
   "source": [
    "# Define a function to create the model\n",
    "def create_model(optimizer='adam', units=64):\n",
    "    model1 = tf.keras.Sequential([\n",
    "        tf.keras.layers.LSTM(units, input_shape=(sequence_length, 1), return_sequences=True),\n",
    "        tf.keras.layers.LSTM(units),\n",
    "        tf.keras.layers.Dense(1)\n",
    "    ])\n",
    "    model1.compile(optimizer=optimizer, loss='mean_squared_error')\n",
    "    return model1"
   ]
  },
  {
   "cell_type": "code",
   "execution_count": 27,
   "id": "f4f7ba84",
   "metadata": {},
   "outputs": [],
   "source": [
    "model2 = create_model(optimizer='adam', units=64)"
   ]
  },
  {
   "cell_type": "code",
   "execution_count": 28,
   "id": "03467032",
   "metadata": {},
   "outputs": [
    {
     "name": "stderr",
     "output_type": "stream",
     "text": [
      "/var/folders/t9/wn4qgz396_s47k55vtg3khww0000gn/T/ipykernel_78737/247228095.py:2: DeprecationWarning: KerasRegressor is deprecated, use Sci-Keras (https://github.com/adriangb/scikeras) instead. See https://www.adriangb.com/scikeras/stable/migration.html for help migrating.\n",
      "  model_LSTM = KerasRegressor(build_fn=create_model, verbose=0)\n"
     ]
    }
   ],
   "source": [
    "#perform gridsearch on GRU model, if this cell breaks, then I need to use a function to build the GRU model as seen in cell below. \n",
    "model_LSTM = KerasRegressor(build_fn=create_model, verbose=0)"
   ]
  },
  {
   "cell_type": "code",
   "execution_count": 29,
   "id": "8fc05075",
   "metadata": {},
   "outputs": [],
   "source": [
    "# Define the parameter grid for GridSearch\n",
    "# Define parameter grid\n",
    "param_grid = {\n",
    "    'optimizer': ['adam', 'rmsprop'],\n",
    "    'units': [32, 64, 128],\n",
    "    'batch_size': [32, 64, 128],\n",
    "    'epochs': [50, 100]\n",
    "}\n"
   ]
  },
  {
   "cell_type": "code",
   "execution_count": 30,
   "id": "e42907b8",
   "metadata": {},
   "outputs": [
    {
     "name": "stdout",
     "output_type": "stream",
     "text": [
      "Intel MKL WARNING: Support of Intel(R) Streaming SIMD Extensions 4.2 (Intel(R) SSE4.2) enabled only processors has been deprecated. Intel oneAPI Math Kernel Library 2025.0 will require Intel(R) Advanced Vector Extensions (Intel(R) AVX) instructions.\n",
      "Intel MKL WARNING: Support of Intel(R) Streaming SIMD Extensions 4.2 (Intel(R) SSE4.2) enabled only processors has been deprecated. Intel oneAPI Math Kernel Library 2025.0 will require Intel(R) Advanced Vector Extensions (Intel(R) AVX) instructions.\n",
      "Intel MKL WARNING: Support of Intel(R) Streaming SIMD Extensions 4.2 (Intel(R) SSE4.2) enabled only processors has been deprecated. Intel oneAPI Math Kernel Library 2025.0 will require Intel(R) Advanced Vector Extensions (Intel(R) AVX) instructions.\n",
      "Intel MKL WARNING: Support of Intel(R) Streaming SIMD Extensions 4.2 (Intel(R) SSE4.2) enabled only processors has been deprecated. Intel oneAPI Math Kernel Library 2025.0 will require Intel(R) Advanced Vector Extensions (Intel(R) AVX) instructions.\n",
      "Intel MKL WARNING: Support of Intel(R) Streaming SIMD Extensions 4.2 (Intel(R) SSE4.2) enabled only processors has been deprecated. Intel oneAPI Math Kernel Library 2025.0 will require Intel(R) Advanced Vector Extensions (Intel(R) AVX) instructions.\n",
      "Intel MKL WARNING: Support of Intel(R) Streaming SIMD Extensions 4.2 (Intel(R) SSE4.2) enabled only processors has been deprecated. Intel oneAPI Math Kernel Library 2025.0 will require Intel(R) Advanced Vector Extensions (Intel(R) AVX) instructions.\n",
      "Intel MKL WARNING: Support of Intel(R) Streaming SIMD Extensions 4.2 (Intel(R) SSE4.2) enabled only processors has been deprecated. Intel oneAPI Math Kernel Library 2025.0 will require Intel(R) Advanced Vector Extensions (Intel(R) AVX) instructions.\n",
      "Intel MKL WARNING: Support of Intel(R) Streaming SIMD Extensions 4.2 (Intel(R) SSE4.2) enabled only processors has been deprecated. Intel oneAPI Math Kernel Library 2025.0 will require Intel(R) Advanced Vector Extensions (Intel(R) AVX) instructions.\n",
      "Intel MKL WARNING: Support of Intel(R) Streaming SIMD Extensions 4.2 (Intel(R) SSE4.2) enabled only processors has been deprecated. Intel oneAPI Math Kernel Library 2025.0 will require Intel(R) Advanced Vector Extensions (Intel(R) AVX) instructions.\n",
      "Intel MKL WARNING: Support of Intel(R) Streaming SIMD Extensions 4.2 (Intel(R) SSE4.2) enabled only processors has been deprecated. Intel oneAPI Math Kernel Library 2025.0 will require Intel(R) Advanced Vector Extensions (Intel(R) AVX) instructions.\n",
      "Intel MKL WARNING: Support of Intel(R) Streaming SIMD Extensions 4.2 (Intel(R) SSE4.2) enabled only processors has been deprecated. Intel oneAPI Math Kernel Library 2025.0 will require Intel(R) Advanced Vector Extensions (Intel(R) AVX) instructions.\n",
      "Intel MKL WARNING: Support of Intel(R) Streaming SIMD Extensions 4.2 (Intel(R) SSE4.2) enabled only processors has been deprecated. Intel oneAPI Math Kernel Library 2025.0 will require Intel(R) Advanced Vector Extensions (Intel(R) AVX) instructions.\n",
      "Intel MKL WARNING: Support of Intel(R) Streaming SIMD Extensions 4.2 (Intel(R) SSE4.2) enabled only processors has been deprecated. Intel oneAPI Math Kernel Library 2025.0 will require Intel(R) Advanced Vector Extensions (Intel(R) AVX) instructions.\n",
      "Intel MKL WARNING: Support of Intel(R) Streaming SIMD Extensions 4.2 (Intel(R) SSE4.2) enabled only processors has been deprecated. Intel oneAPI Math Kernel Library 2025.0 will require Intel(R) Advanced Vector Extensions (Intel(R) AVX) instructions.\n",
      "Intel MKL WARNING: Support of Intel(R) Streaming SIMD Extensions 4.2 (Intel(R) SSE4.2) enabled only processors has been deprecated. Intel oneAPI Math Kernel Library 2025.0 will require Intel(R) Advanced Vector Extensions (Intel(R) AVX) instructions.\n",
      "Intel MKL WARNING: Support of Intel(R) Streaming SIMD Extensions 4.2 (Intel(R) SSE4.2) enabled only processors has been deprecated. Intel oneAPI Math Kernel Library 2025.0 will require Intel(R) Advanced Vector Extensions (Intel(R) AVX) instructions.\n",
      "Intel MKL WARNING: Support of Intel(R) Streaming SIMD Extensions 4.2 (Intel(R) SSE4.2) enabled only processors has been deprecated. Intel oneAPI Math Kernel Library 2025.0 will require Intel(R) Advanced Vector Extensions (Intel(R) AVX) instructions.\n",
      "Intel MKL WARNING: Support of Intel(R) Streaming SIMD Extensions 4.2 (Intel(R) SSE4.2) enabled only processors has been deprecated. Intel oneAPI Math Kernel Library 2025.0 will require Intel(R) Advanced Vector Extensions (Intel(R) AVX) instructions.\n",
      "Intel MKL WARNING: Support of Intel(R) Streaming SIMD Extensions 4.2 (Intel(R) SSE4.2) enabled only processors has been deprecated. Intel oneAPI Math Kernel Library 2025.0 will require Intel(R) Advanced Vector Extensions (Intel(R) AVX) instructions.\n",
      "Intel MKL WARNING: Support of Intel(R) Streaming SIMD Extensions 4.2 (Intel(R) SSE4.2) enabled only processors has been deprecated. Intel oneAPI Math Kernel Library 2025.0 will require Intel(R) Advanced Vector Extensions (Intel(R) AVX) instructions.\n"
     ]
    },
    {
     "name": "stderr",
     "output_type": "stream",
     "text": [
      "2023-08-16 11:09:00.539882: I tensorflow/core/platform/cpu_feature_guard.cc:193] This TensorFlow binary is optimized with oneAPI Deep Neural Network Library (oneDNN) to use the following CPU instructions in performance-critical operations:  SSE4.1 SSE4.2\n",
      "To enable them in other operations, rebuild TensorFlow with the appropriate compiler flags.\n",
      "2023-08-16 11:09:00.542219: I tensorflow/core/platform/cpu_feature_guard.cc:193] This TensorFlow binary is optimized with oneAPI Deep Neural Network Library (oneDNN) to use the following CPU instructions in performance-critical operations:  SSE4.1 SSE4.2\n",
      "To enable them in other operations, rebuild TensorFlow with the appropriate compiler flags.\n",
      "2023-08-16 11:09:00.549892: I tensorflow/core/platform/cpu_feature_guard.cc:193] This TensorFlow binary is optimized with oneAPI Deep Neural Network Library (oneDNN) to use the following CPU instructions in performance-critical operations:  SSE4.1 SSE4.2\n",
      "To enable them in other operations, rebuild TensorFlow with the appropriate compiler flags.\n",
      "2023-08-16 11:09:00.552950: I tensorflow/core/platform/cpu_feature_guard.cc:193] This TensorFlow binary is optimized with oneAPI Deep Neural Network Library (oneDNN) to use the following CPU instructions in performance-critical operations:  SSE4.1 SSE4.2\n",
      "To enable them in other operations, rebuild TensorFlow with the appropriate compiler flags.\n",
      "2023-08-16 11:09:00.560411: I tensorflow/core/platform/cpu_feature_guard.cc:193] This TensorFlow binary is optimized with oneAPI Deep Neural Network Library (oneDNN) to use the following CPU instructions in performance-critical operations:  SSE4.1 SSE4.2\n",
      "To enable them in other operations, rebuild TensorFlow with the appropriate compiler flags.\n",
      "2023-08-16 11:09:00.586947: I tensorflow/core/platform/cpu_feature_guard.cc:193] This TensorFlow binary is optimized with oneAPI Deep Neural Network Library (oneDNN) to use the following CPU instructions in performance-critical operations:  SSE4.1 SSE4.2\n",
      "To enable them in other operations, rebuild TensorFlow with the appropriate compiler flags.\n",
      "2023-08-16 11:09:00.615708: I tensorflow/core/platform/cpu_feature_guard.cc:193] This TensorFlow binary is optimized with oneAPI Deep Neural Network Library (oneDNN) to use the following CPU instructions in performance-critical operations:  SSE4.1 SSE4.2\n",
      "To enable them in other operations, rebuild TensorFlow with the appropriate compiler flags.\n",
      "2023-08-16 11:09:00.624555: I tensorflow/core/platform/cpu_feature_guard.cc:193] This TensorFlow binary is optimized with oneAPI Deep Neural Network Library (oneDNN) to use the following CPU instructions in performance-critical operations:  SSE4.1 SSE4.2\n",
      "To enable them in other operations, rebuild TensorFlow with the appropriate compiler flags.\n",
      "2023-08-16 11:09:00.635075: I tensorflow/core/platform/cpu_feature_guard.cc:193] This TensorFlow binary is optimized with oneAPI Deep Neural Network Library (oneDNN) to use the following CPU instructions in performance-critical operations:  SSE4.1 SSE4.2\n",
      "To enable them in other operations, rebuild TensorFlow with the appropriate compiler flags.\n",
      "2023-08-16 11:09:00.639899: I tensorflow/core/platform/cpu_feature_guard.cc:193] This TensorFlow binary is optimized with oneAPI Deep Neural Network Library (oneDNN) to use the following CPU instructions in performance-critical operations:  SSE4.1 SSE4.2\n",
      "To enable them in other operations, rebuild TensorFlow with the appropriate compiler flags.\n",
      "2023-08-16 11:09:03.919717: I tensorflow/core/platform/cpu_feature_guard.cc:193] This TensorFlow binary is optimized with oneAPI Deep Neural Network Library (oneDNN) to use the following CPU instructions in performance-critical operations:  SSE4.1 SSE4.2\n",
      "To enable them in other operations, rebuild TensorFlow with the appropriate compiler flags.\n",
      "2023-08-16 11:09:03.941639: I tensorflow/core/platform/cpu_feature_guard.cc:193] This TensorFlow binary is optimized with oneAPI Deep Neural Network Library (oneDNN) to use the following CPU instructions in performance-critical operations:  SSE4.1 SSE4.2\n",
      "To enable them in other operations, rebuild TensorFlow with the appropriate compiler flags.\n",
      "2023-08-16 11:09:03.957564: I tensorflow/core/platform/cpu_feature_guard.cc:193] This TensorFlow binary is optimized with oneAPI Deep Neural Network Library (oneDNN) to use the following CPU instructions in performance-critical operations:  SSE4.1 SSE4.2\n",
      "To enable them in other operations, rebuild TensorFlow with the appropriate compiler flags.\n",
      "2023-08-16 11:09:03.972915: I tensorflow/core/platform/cpu_feature_guard.cc:193] This TensorFlow binary is optimized with oneAPI Deep Neural Network Library (oneDNN) to use the following CPU instructions in performance-critical operations:  SSE4.1 SSE4.2\n",
      "To enable them in other operations, rebuild TensorFlow with the appropriate compiler flags.\n",
      "2023-08-16 11:09:03.977573: I tensorflow/core/platform/cpu_feature_guard.cc:193] This TensorFlow binary is optimized with oneAPI Deep Neural Network Library (oneDNN) to use the following CPU instructions in performance-critical operations:  SSE4.1 SSE4.2\n",
      "To enable them in other operations, rebuild TensorFlow with the appropriate compiler flags.\n",
      "2023-08-16 11:09:04.002364: I tensorflow/core/platform/cpu_feature_guard.cc:193] This TensorFlow binary is optimized with oneAPI Deep Neural Network Library (oneDNN) to use the following CPU instructions in performance-critical operations:  SSE4.1 SSE4.2\n",
      "To enable them in other operations, rebuild TensorFlow with the appropriate compiler flags.\n",
      "2023-08-16 11:09:04.004169: I tensorflow/core/platform/cpu_feature_guard.cc:193] This TensorFlow binary is optimized with oneAPI Deep Neural Network Library (oneDNN) to use the following CPU instructions in performance-critical operations:  SSE4.1 SSE4.2\n",
      "To enable them in other operations, rebuild TensorFlow with the appropriate compiler flags.\n",
      "2023-08-16 11:09:04.019288: I tensorflow/core/platform/cpu_feature_guard.cc:193] This TensorFlow binary is optimized with oneAPI Deep Neural Network Library (oneDNN) to use the following CPU instructions in performance-critical operations:  SSE4.1 SSE4.2\n",
      "To enable them in other operations, rebuild TensorFlow with the appropriate compiler flags.\n",
      "2023-08-16 11:09:04.055779: I tensorflow/core/platform/cpu_feature_guard.cc:193] This TensorFlow binary is optimized with oneAPI Deep Neural Network Library (oneDNN) to use the following CPU instructions in performance-critical operations:  SSE4.1 SSE4.2\n",
      "To enable them in other operations, rebuild TensorFlow with the appropriate compiler flags.\n",
      "2023-08-16 11:09:04.128287: I tensorflow/core/platform/cpu_feature_guard.cc:193] This TensorFlow binary is optimized with oneAPI Deep Neural Network Library (oneDNN) to use the following CPU instructions in performance-critical operations:  SSE4.1 SSE4.2\n",
      "To enable them in other operations, rebuild TensorFlow with the appropriate compiler flags.\n",
      "WARNING:tensorflow:5 out of the last 16 calls to <function Model.make_test_function.<locals>.test_function at 0x7fb5f0da0430> triggered tf.function retracing. Tracing is expensive and the excessive number of tracings could be due to (1) creating @tf.function repeatedly in a loop, (2) passing tensors with different shapes, (3) passing Python objects instead of tensors. For (1), please define your @tf.function outside of the loop. For (2), @tf.function has reduce_retracing=True option that can avoid unnecessary retracing. For (3), please refer to https://www.tensorflow.org/guide/function#controlling_retracing and https://www.tensorflow.org/api_docs/python/tf/function for  more details.\n",
      "WARNING:tensorflow:5 out of the last 13 calls to <function Model.make_test_function.<locals>.test_function at 0x7fb600f23ee0> triggered tf.function retracing. Tracing is expensive and the excessive number of tracings could be due to (1) creating @tf.function repeatedly in a loop, (2) passing tensors with different shapes, (3) passing Python objects instead of tensors. For (1), please define your @tf.function outside of the loop. For (2), @tf.function has reduce_retracing=True option that can avoid unnecessary retracing. For (3), please refer to https://www.tensorflow.org/guide/function#controlling_retracing and https://www.tensorflow.org/api_docs/python/tf/function for  more details.\n"
     ]
    },
    {
     "name": "stderr",
     "output_type": "stream",
     "text": [
      "WARNING:tensorflow:5 out of the last 16 calls to <function Model.make_test_function.<locals>.test_function at 0x7f8ca1e7aee0> triggered tf.function retracing. Tracing is expensive and the excessive number of tracings could be due to (1) creating @tf.function repeatedly in a loop, (2) passing tensors with different shapes, (3) passing Python objects instead of tensors. For (1), please define your @tf.function outside of the loop. For (2), @tf.function has reduce_retracing=True option that can avoid unnecessary retracing. For (3), please refer to https://www.tensorflow.org/guide/function#controlling_retracing and https://www.tensorflow.org/api_docs/python/tf/function for  more details.\n",
      "WARNING:tensorflow:5 out of the last 16 calls to <function Model.make_test_function.<locals>.test_function at 0x7fba79256dc0> triggered tf.function retracing. Tracing is expensive and the excessive number of tracings could be due to (1) creating @tf.function repeatedly in a loop, (2) passing tensors with different shapes, (3) passing Python objects instead of tensors. For (1), please define your @tf.function outside of the loop. For (2), @tf.function has reduce_retracing=True option that can avoid unnecessary retracing. For (3), please refer to https://www.tensorflow.org/guide/function#controlling_retracing and https://www.tensorflow.org/api_docs/python/tf/function for  more details.\n",
      "WARNING:tensorflow:5 out of the last 16 calls to <function Model.make_test_function.<locals>.test_function at 0x7ff4113fdaf0> triggered tf.function retracing. Tracing is expensive and the excessive number of tracings could be due to (1) creating @tf.function repeatedly in a loop, (2) passing tensors with different shapes, (3) passing Python objects instead of tensors. For (1), please define your @tf.function outside of the loop. For (2), @tf.function has reduce_retracing=True option that can avoid unnecessary retracing. For (3), please refer to https://www.tensorflow.org/guide/function#controlling_retracing and https://www.tensorflow.org/api_docs/python/tf/function for  more details.\n",
      "WARNING:tensorflow:5 out of the last 16 calls to <function Model.make_test_function.<locals>.test_function at 0x7fecd960a1f0> triggered tf.function retracing. Tracing is expensive and the excessive number of tracings could be due to (1) creating @tf.function repeatedly in a loop, (2) passing tensors with different shapes, (3) passing Python objects instead of tensors. For (1), please define your @tf.function outside of the loop. For (2), @tf.function has reduce_retracing=True option that can avoid unnecessary retracing. For (3), please refer to https://www.tensorflow.org/guide/function#controlling_retracing and https://www.tensorflow.org/api_docs/python/tf/function for  more details.\n",
      "WARNING:tensorflow:5 out of the last 16 calls to <function Model.make_test_function.<locals>.test_function at 0x7f98e970d8b0> triggered tf.function retracing. Tracing is expensive and the excessive number of tracings could be due to (1) creating @tf.function repeatedly in a loop, (2) passing tensors with different shapes, (3) passing Python objects instead of tensors. For (1), please define your @tf.function outside of the loop. For (2), @tf.function has reduce_retracing=True option that can avoid unnecessary retracing. For (3), please refer to https://www.tensorflow.org/guide/function#controlling_retracing and https://www.tensorflow.org/api_docs/python/tf/function for  more details.\n",
      "WARNING:tensorflow:5 out of the last 13 calls to <function Model.make_test_function.<locals>.test_function at 0x7ff43967b5e0> triggered tf.function retracing. Tracing is expensive and the excessive number of tracings could be due to (1) creating @tf.function repeatedly in a loop, (2) passing tensors with different shapes, (3) passing Python objects instead of tensors. For (1), please define your @tf.function outside of the loop. For (2), @tf.function has reduce_retracing=True option that can avoid unnecessary retracing. For (3), please refer to https://www.tensorflow.org/guide/function#controlling_retracing and https://www.tensorflow.org/api_docs/python/tf/function for  more details.\n",
      "WARNING:tensorflow:5 out of the last 12 calls to <function Model.make_test_function.<locals>.test_function at 0x7fec99b4e430> triggered tf.function retracing. Tracing is expensive and the excessive number of tracings could be due to (1) creating @tf.function repeatedly in a loop, (2) passing tensors with different shapes, (3) passing Python objects instead of tensors. For (1), please define your @tf.function outside of the loop. For (2), @tf.function has reduce_retracing=True option that can avoid unnecessary retracing. For (3), please refer to https://www.tensorflow.org/guide/function#controlling_retracing and https://www.tensorflow.org/api_docs/python/tf/function for  more details.\n",
      "WARNING:tensorflow:5 out of the last 13 calls to <function Model.make_test_function.<locals>.test_function at 0x7f98c8ad6280> triggered tf.function retracing. Tracing is expensive and the excessive number of tracings could be due to (1) creating @tf.function repeatedly in a loop, (2) passing tensors with different shapes, (3) passing Python objects instead of tensors. For (1), please define your @tf.function outside of the loop. For (2), @tf.function has reduce_retracing=True option that can avoid unnecessary retracing. For (3), please refer to https://www.tensorflow.org/guide/function#controlling_retracing and https://www.tensorflow.org/api_docs/python/tf/function for  more details.\n",
      "WARNING:tensorflow:5 out of the last 16 calls to <function Model.make_test_function.<locals>.test_function at 0x7fd9516c4940> triggered tf.function retracing. Tracing is expensive and the excessive number of tracings could be due to (1) creating @tf.function repeatedly in a loop, (2) passing tensors with different shapes, (3) passing Python objects instead of tensors. For (1), please define your @tf.function outside of the loop. For (2), @tf.function has reduce_retracing=True option that can avoid unnecessary retracing. For (3), please refer to https://www.tensorflow.org/guide/function#controlling_retracing and https://www.tensorflow.org/api_docs/python/tf/function for  more details.\n",
      "WARNING:tensorflow:5 out of the last 15 calls to <function Model.make_test_function.<locals>.test_function at 0x7febe0e3aaf0> triggered tf.function retracing. Tracing is expensive and the excessive number of tracings could be due to (1) creating @tf.function repeatedly in a loop, (2) passing tensors with different shapes, (3) passing Python objects instead of tensors. For (1), please define your @tf.function outside of the loop. For (2), @tf.function has reduce_retracing=True option that can avoid unnecessary retracing. For (3), please refer to https://www.tensorflow.org/guide/function#controlling_retracing and https://www.tensorflow.org/api_docs/python/tf/function for  more details.\n",
      "WARNING:tensorflow:5 out of the last 13 calls to <function Model.make_test_function.<locals>.test_function at 0x7f8cd1872700> triggered tf.function retracing. Tracing is expensive and the excessive number of tracings could be due to (1) creating @tf.function repeatedly in a loop, (2) passing tensors with different shapes, (3) passing Python objects instead of tensors. For (1), please define your @tf.function outside of the loop. For (2), @tf.function has reduce_retracing=True option that can avoid unnecessary retracing. For (3), please refer to https://www.tensorflow.org/guide/function#controlling_retracing and https://www.tensorflow.org/api_docs/python/tf/function for  more details.\n",
      "WARNING:tensorflow:5 out of the last 13 calls to <function Model.make_test_function.<locals>.test_function at 0x7fba69f57dc0> triggered tf.function retracing. Tracing is expensive and the excessive number of tracings could be due to (1) creating @tf.function repeatedly in a loop, (2) passing tensors with different shapes, (3) passing Python objects instead of tensors. For (1), please define your @tf.function outside of the loop. For (2), @tf.function has reduce_retracing=True option that can avoid unnecessary retracing. For (3), please refer to https://www.tensorflow.org/guide/function#controlling_retracing and https://www.tensorflow.org/api_docs/python/tf/function for  more details.\n"
     ]
    },
    {
     "name": "stderr",
     "output_type": "stream",
     "text": [
      "WARNING:tensorflow:5 out of the last 12 calls to <function Model.make_test_function.<locals>.test_function at 0x7fd959138700> triggered tf.function retracing. Tracing is expensive and the excessive number of tracings could be due to (1) creating @tf.function repeatedly in a loop, (2) passing tensors with different shapes, (3) passing Python objects instead of tensors. For (1), please define your @tf.function outside of the loop. For (2), @tf.function has reduce_retracing=True option that can avoid unnecessary retracing. For (3), please refer to https://www.tensorflow.org/guide/function#controlling_retracing and https://www.tensorflow.org/api_docs/python/tf/function for  more details.\n",
      "WARNING:tensorflow:5 out of the last 11 calls to <function Model.make_test_function.<locals>.test_function at 0x7febf1693940> triggered tf.function retracing. Tracing is expensive and the excessive number of tracings could be due to (1) creating @tf.function repeatedly in a loop, (2) passing tensors with different shapes, (3) passing Python objects instead of tensors. For (1), please define your @tf.function outside of the loop. For (2), @tf.function has reduce_retracing=True option that can avoid unnecessary retracing. For (3), please refer to https://www.tensorflow.org/guide/function#controlling_retracing and https://www.tensorflow.org/api_docs/python/tf/function for  more details.\n",
      "WARNING:tensorflow:5 out of the last 15 calls to <function Model.make_test_function.<locals>.test_function at 0x7feb002ff820> triggered tf.function retracing. Tracing is expensive and the excessive number of tracings could be due to (1) creating @tf.function repeatedly in a loop, (2) passing tensors with different shapes, (3) passing Python objects instead of tensors. For (1), please define your @tf.function outside of the loop. For (2), @tf.function has reduce_retracing=True option that can avoid unnecessary retracing. For (3), please refer to https://www.tensorflow.org/guide/function#controlling_retracing and https://www.tensorflow.org/api_docs/python/tf/function for  more details.\n",
      "/Users/miryam.chen/opt/anaconda3/envs/UdacityProject/lib/python3.9/site-packages/joblib/externals/loky/process_executor.py:752: UserWarning: A worker stopped while some jobs were given to the executor. This can be caused by a too short worker timeout or by a memory leak.\n",
      "  warnings.warn(\n",
      "WARNING:tensorflow:5 out of the last 15 calls to <function Model.make_test_function.<locals>.test_function at 0x7f9fc8ea7e50> triggered tf.function retracing. Tracing is expensive and the excessive number of tracings could be due to (1) creating @tf.function repeatedly in a loop, (2) passing tensors with different shapes, (3) passing Python objects instead of tensors. For (1), please define your @tf.function outside of the loop. For (2), @tf.function has reduce_retracing=True option that can avoid unnecessary retracing. For (3), please refer to https://www.tensorflow.org/guide/function#controlling_retracing and https://www.tensorflow.org/api_docs/python/tf/function for  more details.\n"
     ]
    },
    {
     "name": "stdout",
     "output_type": "stream",
     "text": [
      "Intel MKL WARNING: Support of Intel(R) Streaming SIMD Extensions 4.2 (Intel(R) SSE4.2) enabled only processors has been deprecated. Intel oneAPI Math Kernel Library 2025.0 will require Intel(R) Advanced Vector Extensions (Intel(R) AVX) instructions.\n",
      "Intel MKL WARNING: Support of Intel(R) Streaming SIMD Extensions 4.2 (Intel(R) SSE4.2) enabled only processors has been deprecated. Intel oneAPI Math Kernel Library 2025.0 will require Intel(R) Advanced Vector Extensions (Intel(R) AVX) instructions.\n"
     ]
    },
    {
     "name": "stderr",
     "output_type": "stream",
     "text": [
      "2023-08-16 11:12:25.611628: I tensorflow/core/platform/cpu_feature_guard.cc:193] This TensorFlow binary is optimized with oneAPI Deep Neural Network Library (oneDNN) to use the following CPU instructions in performance-critical operations:  SSE4.1 SSE4.2\n",
      "To enable them in other operations, rebuild TensorFlow with the appropriate compiler flags.\n",
      "WARNING:tensorflow:5 out of the last 11 calls to <function Model.make_test_function.<locals>.test_function at 0x7feb19203af0> triggered tf.function retracing. Tracing is expensive and the excessive number of tracings could be due to (1) creating @tf.function repeatedly in a loop, (2) passing tensors with different shapes, (3) passing Python objects instead of tensors. For (1), please define your @tf.function outside of the loop. For (2), @tf.function has reduce_retracing=True option that can avoid unnecessary retracing. For (3), please refer to https://www.tensorflow.org/guide/function#controlling_retracing and https://www.tensorflow.org/api_docs/python/tf/function for  more details.\n",
      "2023-08-16 11:12:30.062027: I tensorflow/core/platform/cpu_feature_guard.cc:193] This TensorFlow binary is optimized with oneAPI Deep Neural Network Library (oneDNN) to use the following CPU instructions in performance-critical operations:  SSE4.1 SSE4.2\n",
      "To enable them in other operations, rebuild TensorFlow with the appropriate compiler flags.\n",
      "WARNING:tensorflow:5 out of the last 11 calls to <function Model.make_test_function.<locals>.test_function at 0x7f9f996eaa60> triggered tf.function retracing. Tracing is expensive and the excessive number of tracings could be due to (1) creating @tf.function repeatedly in a loop, (2) passing tensors with different shapes, (3) passing Python objects instead of tensors. For (1), please define your @tf.function outside of the loop. For (2), @tf.function has reduce_retracing=True option that can avoid unnecessary retracing. For (3), please refer to https://www.tensorflow.org/guide/function#controlling_retracing and https://www.tensorflow.org/api_docs/python/tf/function for  more details.\n"
     ]
    }
   ],
   "source": [
    "# Perform GridSearch\n",
    "grid = GridSearchCV(estimator=model_LSTM, param_grid=param_grid, cv=3, n_jobs=-1)\n",
    "grid_result = grid.fit(X_train, y_train)"
   ]
  },
  {
   "cell_type": "code",
   "execution_count": 31,
   "id": "0c9a6c19",
   "metadata": {},
   "outputs": [
    {
     "name": "stdout",
     "output_type": "stream",
     "text": [
      "Best: -0.001812 using {'batch_size': 32, 'epochs': 100, 'optimizer': 'adam', 'units': 128}\n"
     ]
    }
   ],
   "source": [
    "# Print the best parameters and the best score\n",
    "print(\"Best: %f using %s\" % (grid_result.best_score_, grid_result.best_params_))"
   ]
  },
  {
   "cell_type": "markdown",
   "id": "423cec9c",
   "metadata": {},
   "source": [
    "## Making predictions for a given future date\n",
    "We have trained the model, which is ready to make predictions with the desired accuracy level. \n",
    "Below we will create the code to make predictions based on date chosen."
   ]
  },
  {
   "cell_type": "code",
   "execution_count": 39,
   "id": "5c12f83a",
   "metadata": {},
   "outputs": [],
   "source": [
    "# Choose the index of the day you want to predict (0-based index), let's say we want the price for 2 weeks after the training cutoff\n",
    "target_day_index = 13  # 14th day corresponds to index 13\n",
    "# Get the input sequence for the target day\n",
    "input_sequence = X_test[target_day_index - sequence_length + 1 : target_day_index + 1]\n",
    "# Reshape the input_sequence to match the model's input shape\n",
    "#input_sequence = input_sequence.reshape(1, sequence_length, num_features)"
   ]
  },
  {
   "cell_type": "code",
   "execution_count": 40,
   "id": "dd804609",
   "metadata": {},
   "outputs": [
    {
     "name": "stdout",
     "output_type": "stream",
     "text": [
      "1/1 [==============================] - 0s 19ms/step\n"
     ]
    }
   ],
   "source": [
    "# Use the trained model to make a prediction\n",
    "predicted_price = model_GRU.predict(input_sequence)\n",
    "# Inverse scaling if you used MinMaxScaler before training\n",
    "predicted_price = scaler.inverse_transform(predicted_price)"
   ]
  },
  {
   "cell_type": "code",
   "execution_count": 42,
   "id": "020c0189",
   "metadata": {},
   "outputs": [],
   "source": [
    "# get the y_test true values for mape calculation\n",
    "y_true = y_test_inv[target_day_index - sequence_length + 1 : target_day_index + 1]"
   ]
  },
  {
   "cell_type": "code",
   "execution_count": 43,
   "id": "78acf16c",
   "metadata": {},
   "outputs": [
    {
     "name": "stdout",
     "output_type": "stream",
     "text": [
      "Mean Absolute Percentage Error: 0.580217851479745\n"
     ]
    }
   ],
   "source": [
    "## Calculate MAPE (Mean Absolute Percentage Error)\n",
    "def calculate_mape(y_true, y_pred):\n",
    "    return np.mean(np.abs((y_true - y_pred) / y_true)) * 100\n",
    "\n",
    "mape_GRU = calculate_mape(y_test_inv, predicted_values_inv_GRU)\n",
    "print(\"Mean Absolute Percentage Error:\", mape)"
   ]
  },
  {
   "cell_type": "code",
   "execution_count": 44,
   "id": "cd58bdd4",
   "metadata": {},
   "outputs": [
    {
     "name": "stdout",
     "output_type": "stream",
     "text": [
      "Predicted Stock Price on Day 14: [[189.7915 ]\n",
      " [190.30019]\n",
      " [190.3885 ]\n",
      " [190.40143]\n",
      " [190.42226]\n",
      " [194.27335]\n",
      " [193.26062]\n",
      " [195.13339]\n",
      " [192.49277]\n",
      " [191.66331]]\n"
     ]
    }
   ],
   "source": [
    "print(\"Predicted Stock Price on Day 14:\", predicted_price)"
   ]
  }
 ],
 "metadata": {
  "kernelspec": {
   "display_name": "Python 3 (ipykernel)",
   "language": "python",
   "name": "python3"
  },
  "language_info": {
   "codemirror_mode": {
    "name": "ipython",
    "version": 3
   },
   "file_extension": ".py",
   "mimetype": "text/x-python",
   "name": "python",
   "nbconvert_exporter": "python",
   "pygments_lexer": "ipython3",
   "version": "3.9.17"
  }
 },
 "nbformat": 4,
 "nbformat_minor": 5
}
