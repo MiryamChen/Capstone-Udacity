{
 "cells": [
  {
   "cell_type": "code",
   "execution_count": 1,
   "id": "75bdc67c",
   "metadata": {},
   "outputs": [],
   "source": [
    "import yfinance as yf\n",
    "import pandas as pd\n",
    "from sklearn.preprocessing import MinMaxScaler\n",
    "from sklearn.metrics import mean_squared_error\n"
   ]
  },
  {
   "cell_type": "code",
   "execution_count": null,
   "id": "d95b27b7",
   "metadata": {},
   "outputs": [],
   "source": [
    "from keras.models import Sequential\n",
    "from keras.layers import LSTM, Dense\n"
   ]
  },
  {
   "cell_type": "markdown",
   "id": "8adc8644",
   "metadata": {},
   "source": [
    "1. get data\n",
    "2. prepare data\n",
    "3. standardize data\n",
    "4. train/test split\n",
    "5. build training and predicting pipeline: that allows to quickly train and evaluate models"
   ]
  },
  {
   "cell_type": "code",
   "execution_count": 2,
   "id": "bba3a4d0",
   "metadata": {},
   "outputs": [
    {
     "name": "stdout",
     "output_type": "stream",
     "text": [
      "[*********************100%***********************]  1 of 1 completed\n"
     ]
    }
   ],
   "source": [
    "df=yf.download('DIS', start='2023-01-01', end='2023-07-30')"
   ]
  },
  {
   "cell_type": "code",
   "execution_count": 3,
   "id": "c4ff79de",
   "metadata": {},
   "outputs": [],
   "source": [
    "#set cutoff date for training and testing data\n",
    "test_size = 30\n"
   ]
  },
  {
   "cell_type": "code",
   "execution_count": 5,
   "id": "08be4630",
   "metadata": {},
   "outputs": [
    {
     "data": {
      "text/plain": [
       "Index(['Open', 'High', 'Low', 'Close', 'Adj Close', 'Volume'], dtype='object')"
      ]
     },
     "execution_count": 5,
     "metadata": {},
     "output_type": "execute_result"
    }
   ],
   "source": [
    "columns_not_scale = ['Date', 'Close', 'Adj Close']\n",
    "X_to_scale = df.drop(columns_not_scale, axis=1)"
   ]
  },
  {
   "cell_type": "code",
   "execution_count": 7,
   "id": "a40322f3",
   "metadata": {},
   "outputs": [],
   "source": [
    "# Separate features and target, also take Date out as we are not goig to scale this data\n",
    "columns_to_drop = ['Close', 'Adj Close']\n",
    "X = df.drop(columns_to_drop, axis=1)\n",
    "y = df['Adj Close']"
   ]
  },
  {
   "cell_type": "code",
   "execution_count": 18,
   "id": "64635918",
   "metadata": {},
   "outputs": [
    {
     "data": {
      "text/html": [
       "<div>\n",
       "<style scoped>\n",
       "    .dataframe tbody tr th:only-of-type {\n",
       "        vertical-align: middle;\n",
       "    }\n",
       "\n",
       "    .dataframe tbody tr th {\n",
       "        vertical-align: top;\n",
       "    }\n",
       "\n",
       "    .dataframe thead th {\n",
       "        text-align: right;\n",
       "    }\n",
       "</style>\n",
       "<table border=\"1\" class=\"dataframe\">\n",
       "  <thead>\n",
       "    <tr style=\"text-align: right;\">\n",
       "      <th></th>\n",
       "      <th>Open</th>\n",
       "      <th>High</th>\n",
       "      <th>Low</th>\n",
       "      <th>Volume</th>\n",
       "    </tr>\n",
       "    <tr>\n",
       "      <th>Date</th>\n",
       "      <th></th>\n",
       "      <th></th>\n",
       "      <th></th>\n",
       "      <th></th>\n",
       "    </tr>\n",
       "  </thead>\n",
       "  <tbody>\n",
       "    <tr>\n",
       "      <th>2023-01-03</th>\n",
       "      <td>88.980003</td>\n",
       "      <td>89.970001</td>\n",
       "      <td>87.830002</td>\n",
       "      <td>14997100</td>\n",
       "    </tr>\n",
       "    <tr>\n",
       "      <th>2023-01-04</th>\n",
       "      <td>90.000000</td>\n",
       "      <td>92.750000</td>\n",
       "      <td>89.360001</td>\n",
       "      <td>14957200</td>\n",
       "    </tr>\n",
       "    <tr>\n",
       "      <th>2023-01-05</th>\n",
       "      <td>91.660004</td>\n",
       "      <td>92.480003</td>\n",
       "      <td>90.510002</td>\n",
       "      <td>11622600</td>\n",
       "    </tr>\n",
       "    <tr>\n",
       "      <th>2023-01-06</th>\n",
       "      <td>92.660004</td>\n",
       "      <td>94.690002</td>\n",
       "      <td>91.320000</td>\n",
       "      <td>9828100</td>\n",
       "    </tr>\n",
       "    <tr>\n",
       "      <th>2023-01-09</th>\n",
       "      <td>94.430000</td>\n",
       "      <td>95.699997</td>\n",
       "      <td>93.449997</td>\n",
       "      <td>11675800</td>\n",
       "    </tr>\n",
       "  </tbody>\n",
       "</table>\n",
       "</div>"
      ],
      "text/plain": [
       "                 Open       High        Low    Volume\n",
       "Date                                                 \n",
       "2023-01-03  88.980003  89.970001  87.830002  14997100\n",
       "2023-01-04  90.000000  92.750000  89.360001  14957200\n",
       "2023-01-05  91.660004  92.480003  90.510002  11622600\n",
       "2023-01-06  92.660004  94.690002  91.320000   9828100\n",
       "2023-01-09  94.430000  95.699997  93.449997  11675800"
      ]
     },
     "execution_count": 18,
     "metadata": {},
     "output_type": "execute_result"
    }
   ],
   "source": [
    "X.head()"
   ]
  },
  {
   "cell_type": "code",
   "execution_count": 10,
   "id": "f47e7de8",
   "metadata": {},
   "outputs": [],
   "source": [
    "# Standardize features using MinMaxScaler\n",
    "scaler = MinMaxScaler()\n",
    "X_scaled = scaler.fit_transform(X_to_scale)"
   ]
  },
  {
   "cell_type": "code",
   "execution_count": null,
   "id": "1bd44d5d",
   "metadata": {},
   "outputs": [],
   "source": [
    "#reassemble the X dataframe to include date again\n",
    "X_scaled_df = pd.DataFrame(X_scaled, columns=X)\n",
    "X_scaled_df['Date'] = X['Date'].values"
   ]
  },
  {
   "cell_type": "code",
   "execution_count": 13,
   "id": "b6fdd7f3",
   "metadata": {},
   "outputs": [],
   "source": [
    "# Split scaled data into training and testing sets\n",
    "X_train_scaled = X_scaled_df[:-test_size]\n",
    "X_test_scaled = X_scaled_df[-test_size:]\n",
    "y_train = y.iloc[:-test_size]\n",
    "y_test = y.iloc[-test_size:]"
   ]
  },
  {
   "cell_type": "code",
   "execution_count": 14,
   "id": "44f3e943",
   "metadata": {},
   "outputs": [
    {
     "data": {
      "text/plain": [
       "(113, 4)"
      ]
     },
     "execution_count": 14,
     "metadata": {},
     "output_type": "execute_result"
    }
   ],
   "source": [
    "X_train_scaled.shape"
   ]
  },
  {
   "cell_type": "code",
   "execution_count": 16,
   "id": "ae81c4e7",
   "metadata": {},
   "outputs": [
    {
     "data": {
      "text/plain": [
       "(30, 4)"
      ]
     },
     "execution_count": 16,
     "metadata": {},
     "output_type": "execute_result"
    }
   ],
   "source": [
    "X_test_scaled.shape"
   ]
  },
  {
   "cell_type": "code",
   "execution_count": 17,
   "id": "14c5f547",
   "metadata": {},
   "outputs": [
    {
     "data": {
      "text/plain": [
       "(113,)"
      ]
     },
     "execution_count": 17,
     "metadata": {},
     "output_type": "execute_result"
    }
   ],
   "source": [
    "y_train.shape"
   ]
  },
  {
   "cell_type": "code",
   "execution_count": null,
   "id": "b0ec4850",
   "metadata": {},
   "outputs": [],
   "source": [
    "#reshape data for lstm: LSTM models expect input data in a 3D shape (samples, time steps, features)\n",
    "#time steps: is the number of times periods in the dataset(days, months...)that you want to take as input for prediction\n",
    "# Reshape X_train_scaled\n",
    "X_train_reshaped = X_train_scaled.reshape((X_train_scaled.shape[0], 5, X_train_scaled.shape[1]))\n",
    "\n",
    "# Reshape X_test_scaled\n",
    "X_test_reshaped = X_test_scaled.reshape((X_test_scaled.shape[0], 5, X_test_scaled.shape[1]))\n"
   ]
  },
  {
   "cell_type": "code",
   "execution_count": null,
   "id": "9cf62e56",
   "metadata": {},
   "outputs": [],
   "source": [
    "#build and train the LSTM Model\n",
    "model = Sequential()\n",
    "model.add(LSTM(50, activation='relu', input_shape=(1, num_features)))\n",
    "model.add(Dense(1))\n",
    "model.compile(optimizer='adam', loss='mean_squared_error')\n",
    "\n",
    "model.fit(X_train_reshaped, y_train, epochs=50, batch_size=16, verbose=1)\n"
   ]
  },
  {
   "cell_type": "code",
   "execution_count": null,
   "id": "406a1f6e",
   "metadata": {},
   "outputs": [],
   "source": [
    "#make predictions and evaluate model\n",
    "y_pred = model.predict(X_test_reshaped)\n",
    "mse = mean_squared_error(y_test, y_pred)\n",
    "print(\"Mean Squared Error:\", mse)\n"
   ]
  }
 ],
 "metadata": {
  "kernelspec": {
   "display_name": "Python 3 (ipykernel)",
   "language": "python",
   "name": "python3"
  },
  "language_info": {
   "codemirror_mode": {
    "name": "ipython",
    "version": 3
   },
   "file_extension": ".py",
   "mimetype": "text/x-python",
   "name": "python",
   "nbconvert_exporter": "python",
   "pygments_lexer": "ipython3",
   "version": "3.10.12"
  }
 },
 "nbformat": 4,
 "nbformat_minor": 5
}
